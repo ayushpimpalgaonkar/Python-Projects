{
 "cells": [
  {
   "cell_type": "code",
   "execution_count": 2,
   "id": "8e12f444",
   "metadata": {
    "ExecuteTime": {
     "end_time": "2023-12-21T07:31:08.629260Z",
     "start_time": "2023-12-21T07:31:05.985587Z"
    }
   },
   "outputs": [],
   "source": [
    "import numpy as np   \n",
    "import pandas as pd    \n",
    "import seaborn as sns\n",
    "\n",
    "from sklearn.linear_model import LinearRegression\n",
    "from sklearn import metrics\n",
    "\n",
    "import matplotlib.pyplot as plt   \n",
    "import matplotlib.style\n",
    "\n",
    "import warnings \n",
    "warnings.filterwarnings('ignore')"
   ]
  },
  {
   "cell_type": "code",
   "execution_count": 3,
   "id": "8ea1151f",
   "metadata": {
    "ExecuteTime": {
     "end_time": "2023-12-21T07:31:11.278798Z",
     "start_time": "2023-12-21T07:31:11.230179Z"
    }
   },
   "outputs": [],
   "source": [
    "df = pd.read_csv('Apps_data.csv')"
   ]
  },
  {
   "cell_type": "code",
   "execution_count": 4,
   "id": "1965ced4",
   "metadata": {
    "ExecuteTime": {
     "end_time": "2023-12-21T07:31:13.845103Z",
     "start_time": "2023-12-21T07:31:13.814137Z"
    }
   },
   "outputs": [
    {
     "data": {
      "text/html": [
       "<div>\n",
       "<style scoped>\n",
       "    .dataframe tbody tr th:only-of-type {\n",
       "        vertical-align: middle;\n",
       "    }\n",
       "\n",
       "    .dataframe tbody tr th {\n",
       "        vertical-align: top;\n",
       "    }\n",
       "\n",
       "    .dataframe thead th {\n",
       "        text-align: right;\n",
       "    }\n",
       "</style>\n",
       "<table border=\"1\" class=\"dataframe\">\n",
       "  <thead>\n",
       "    <tr style=\"text-align: right;\">\n",
       "      <th></th>\n",
       "      <th>App</th>\n",
       "      <th>Category</th>\n",
       "      <th>Rating</th>\n",
       "      <th>Reviews</th>\n",
       "      <th>Size</th>\n",
       "      <th>Installs</th>\n",
       "      <th>Type</th>\n",
       "      <th>Price</th>\n",
       "      <th>Content Rating</th>\n",
       "      <th>Genres</th>\n",
       "      <th>Last Updated</th>\n",
       "      <th>Current Ver</th>\n",
       "      <th>Android Ver</th>\n",
       "    </tr>\n",
       "  </thead>\n",
       "  <tbody>\n",
       "    <tr>\n",
       "      <th>0</th>\n",
       "      <td>Photo Editor &amp; Candy Camera &amp; Grid &amp; ScrapBook</td>\n",
       "      <td>ART_AND_DESIGN</td>\n",
       "      <td>4.1</td>\n",
       "      <td>159</td>\n",
       "      <td>19M</td>\n",
       "      <td>10,000+</td>\n",
       "      <td>Free</td>\n",
       "      <td>0</td>\n",
       "      <td>Everyone</td>\n",
       "      <td>Art &amp; Design</td>\n",
       "      <td>January 7, 2018</td>\n",
       "      <td>1.0.0</td>\n",
       "      <td>4.0.3 and up</td>\n",
       "    </tr>\n",
       "    <tr>\n",
       "      <th>1</th>\n",
       "      <td>Coloring book moana</td>\n",
       "      <td>ART_AND_DESIGN</td>\n",
       "      <td>3.9</td>\n",
       "      <td>967</td>\n",
       "      <td>14M</td>\n",
       "      <td>500,000+</td>\n",
       "      <td>Free</td>\n",
       "      <td>0</td>\n",
       "      <td>Everyone</td>\n",
       "      <td>Art &amp; Design;Pretend Play</td>\n",
       "      <td>January 15, 2018</td>\n",
       "      <td>2.0.0</td>\n",
       "      <td>4.0.3 and up</td>\n",
       "    </tr>\n",
       "    <tr>\n",
       "      <th>2</th>\n",
       "      <td>U Launcher Lite – FREE Live Cool Themes, Hide ...</td>\n",
       "      <td>ART_AND_DESIGN</td>\n",
       "      <td>4.7</td>\n",
       "      <td>87510</td>\n",
       "      <td>8.7M</td>\n",
       "      <td>5,000,000+</td>\n",
       "      <td>Free</td>\n",
       "      <td>0</td>\n",
       "      <td>Everyone</td>\n",
       "      <td>Art &amp; Design</td>\n",
       "      <td>August 1, 2018</td>\n",
       "      <td>1.2.4</td>\n",
       "      <td>4.0.3 and up</td>\n",
       "    </tr>\n",
       "    <tr>\n",
       "      <th>3</th>\n",
       "      <td>Sketch - Draw &amp; Paint</td>\n",
       "      <td>ART_AND_DESIGN</td>\n",
       "      <td>4.5</td>\n",
       "      <td>215644</td>\n",
       "      <td>25M</td>\n",
       "      <td>50,000,000+</td>\n",
       "      <td>Free</td>\n",
       "      <td>0</td>\n",
       "      <td>Teen</td>\n",
       "      <td>Art &amp; Design</td>\n",
       "      <td>June 8, 2018</td>\n",
       "      <td>Varies with device</td>\n",
       "      <td>4.2 and up</td>\n",
       "    </tr>\n",
       "    <tr>\n",
       "      <th>4</th>\n",
       "      <td>Pixel Draw - Number Art Coloring Book</td>\n",
       "      <td>ART_AND_DESIGN</td>\n",
       "      <td>4.3</td>\n",
       "      <td>967</td>\n",
       "      <td>2.8M</td>\n",
       "      <td>100,000+</td>\n",
       "      <td>Free</td>\n",
       "      <td>0</td>\n",
       "      <td>Everyone</td>\n",
       "      <td>Art &amp; Design;Creativity</td>\n",
       "      <td>June 20, 2018</td>\n",
       "      <td>1.1</td>\n",
       "      <td>4.4 and up</td>\n",
       "    </tr>\n",
       "  </tbody>\n",
       "</table>\n",
       "</div>"
      ],
      "text/plain": [
       "                                                 App        Category  Rating  \\\n",
       "0     Photo Editor & Candy Camera & Grid & ScrapBook  ART_AND_DESIGN     4.1   \n",
       "1                                Coloring book moana  ART_AND_DESIGN     3.9   \n",
       "2  U Launcher Lite – FREE Live Cool Themes, Hide ...  ART_AND_DESIGN     4.7   \n",
       "3                              Sketch - Draw & Paint  ART_AND_DESIGN     4.5   \n",
       "4              Pixel Draw - Number Art Coloring Book  ART_AND_DESIGN     4.3   \n",
       "\n",
       "   Reviews  Size     Installs  Type Price Content Rating  \\\n",
       "0      159   19M      10,000+  Free     0       Everyone   \n",
       "1      967   14M     500,000+  Free     0       Everyone   \n",
       "2    87510  8.7M   5,000,000+  Free     0       Everyone   \n",
       "3   215644   25M  50,000,000+  Free     0           Teen   \n",
       "4      967  2.8M     100,000+  Free     0       Everyone   \n",
       "\n",
       "                      Genres      Last Updated         Current Ver  \\\n",
       "0               Art & Design   January 7, 2018               1.0.0   \n",
       "1  Art & Design;Pretend Play  January 15, 2018               2.0.0   \n",
       "2               Art & Design    August 1, 2018               1.2.4   \n",
       "3               Art & Design      June 8, 2018  Varies with device   \n",
       "4    Art & Design;Creativity     June 20, 2018                 1.1   \n",
       "\n",
       "    Android Ver  \n",
       "0  4.0.3 and up  \n",
       "1  4.0.3 and up  \n",
       "2  4.0.3 and up  \n",
       "3    4.2 and up  \n",
       "4    4.4 and up  "
      ]
     },
     "execution_count": 4,
     "metadata": {},
     "output_type": "execute_result"
    }
   ],
   "source": [
    "df.head()"
   ]
  },
  {
   "cell_type": "markdown",
   "id": "3a6689b5",
   "metadata": {},
   "source": [
    "### Exploratory Data Analysis "
   ]
  },
  {
   "cell_type": "code",
   "execution_count": 4,
   "id": "737fb4fe",
   "metadata": {
    "ExecuteTime": {
     "end_time": "2023-11-30T06:45:41.940812Z",
     "start_time": "2023-11-30T06:45:41.928714Z"
    }
   },
   "outputs": [
    {
     "name": "stdout",
     "output_type": "stream",
     "text": [
      "<class 'pandas.core.frame.DataFrame'>\n",
      "RangeIndex: 10841 entries, 0 to 10840\n",
      "Data columns (total 13 columns):\n",
      " #   Column          Non-Null Count  Dtype  \n",
      "---  ------          --------------  -----  \n",
      " 0   App             10841 non-null  object \n",
      " 1   Category        10841 non-null  object \n",
      " 2   Rating          9367 non-null   float64\n",
      " 3   Reviews         10841 non-null  int64  \n",
      " 4   Size            10841 non-null  object \n",
      " 5   Installs        10841 non-null  object \n",
      " 6   Type            10840 non-null  object \n",
      " 7   Price           10841 non-null  object \n",
      " 8   Content Rating  10840 non-null  object \n",
      " 9   Genres          10841 non-null  object \n",
      " 10  Last Updated    10841 non-null  object \n",
      " 11  Current Ver     10833 non-null  object \n",
      " 12  Android Ver     10838 non-null  object \n",
      "dtypes: float64(1), int64(1), object(11)\n",
      "memory usage: 1.1+ MB\n"
     ]
    }
   ],
   "source": [
    "df.info()"
   ]
  },
  {
   "cell_type": "code",
   "execution_count": 5,
   "id": "f8e2a09f",
   "metadata": {
    "ExecuteTime": {
     "end_time": "2023-11-30T06:45:45.602463Z",
     "start_time": "2023-11-30T06:45:45.596200Z"
    }
   },
   "outputs": [
    {
     "data": {
      "text/plain": [
       "(10841, 13)"
      ]
     },
     "execution_count": 5,
     "metadata": {},
     "output_type": "execute_result"
    }
   ],
   "source": [
    "df.shape"
   ]
  },
  {
   "cell_type": "markdown",
   "id": "a67dd546",
   "metadata": {},
   "source": [
    "### Checking for Missing Values"
   ]
  },
  {
   "cell_type": "code",
   "execution_count": 6,
   "id": "0d571d8a",
   "metadata": {
    "ExecuteTime": {
     "end_time": "2023-11-30T06:45:48.005041Z",
     "start_time": "2023-11-30T06:45:47.995965Z"
    }
   },
   "outputs": [
    {
     "data": {
      "text/plain": [
       "App                  0\n",
       "Category             0\n",
       "Rating            1474\n",
       "Reviews              0\n",
       "Size                 0\n",
       "Installs             0\n",
       "Type                 1\n",
       "Price                0\n",
       "Content Rating       1\n",
       "Genres               0\n",
       "Last Updated         0\n",
       "Current Ver          8\n",
       "Android Ver          3\n",
       "dtype: int64"
      ]
     },
     "execution_count": 6,
     "metadata": {},
     "output_type": "execute_result"
    }
   ],
   "source": [
    "df.isnull().sum()"
   ]
  },
  {
   "cell_type": "markdown",
   "id": "4bf2348e",
   "metadata": {},
   "source": [
    "### Checking Summary Statistics"
   ]
  },
  {
   "cell_type": "code",
   "execution_count": 7,
   "id": "7d641ace",
   "metadata": {
    "ExecuteTime": {
     "end_time": "2023-11-30T06:45:50.537476Z",
     "start_time": "2023-11-30T06:45:50.510323Z"
    }
   },
   "outputs": [
    {
     "data": {
      "text/html": [
       "<div>\n",
       "<style scoped>\n",
       "    .dataframe tbody tr th:only-of-type {\n",
       "        vertical-align: middle;\n",
       "    }\n",
       "\n",
       "    .dataframe tbody tr th {\n",
       "        vertical-align: top;\n",
       "    }\n",
       "\n",
       "    .dataframe thead th {\n",
       "        text-align: right;\n",
       "    }\n",
       "</style>\n",
       "<table border=\"1\" class=\"dataframe\">\n",
       "  <thead>\n",
       "    <tr style=\"text-align: right;\">\n",
       "      <th></th>\n",
       "      <th>count</th>\n",
       "      <th>mean</th>\n",
       "      <th>std</th>\n",
       "      <th>min</th>\n",
       "      <th>25%</th>\n",
       "      <th>50%</th>\n",
       "      <th>75%</th>\n",
       "      <th>max</th>\n",
       "    </tr>\n",
       "  </thead>\n",
       "  <tbody>\n",
       "    <tr>\n",
       "      <th>Rating</th>\n",
       "      <td>9367.0</td>\n",
       "      <td>4.193338</td>\n",
       "      <td>5.374313e-01</td>\n",
       "      <td>1.0</td>\n",
       "      <td>4.0</td>\n",
       "      <td>4.3</td>\n",
       "      <td>4.5</td>\n",
       "      <td>19.0</td>\n",
       "    </tr>\n",
       "    <tr>\n",
       "      <th>Reviews</th>\n",
       "      <td>10841.0</td>\n",
       "      <td>444111.926575</td>\n",
       "      <td>2.927629e+06</td>\n",
       "      <td>0.0</td>\n",
       "      <td>38.0</td>\n",
       "      <td>2094.0</td>\n",
       "      <td>54768.0</td>\n",
       "      <td>78158306.0</td>\n",
       "    </tr>\n",
       "  </tbody>\n",
       "</table>\n",
       "</div>"
      ],
      "text/plain": [
       "           count           mean           std  min   25%     50%      75%  \\\n",
       "Rating    9367.0       4.193338  5.374313e-01  1.0   4.0     4.3      4.5   \n",
       "Reviews  10841.0  444111.926575  2.927629e+06  0.0  38.0  2094.0  54768.0   \n",
       "\n",
       "                max  \n",
       "Rating         19.0  \n",
       "Reviews  78158306.0  "
      ]
     },
     "execution_count": 7,
     "metadata": {},
     "output_type": "execute_result"
    }
   ],
   "source": [
    "df.describe().T"
   ]
  },
  {
   "cell_type": "code",
   "execution_count": 8,
   "id": "d261b0a6",
   "metadata": {
    "ExecuteTime": {
     "end_time": "2023-11-30T06:45:58.679913Z",
     "start_time": "2023-11-30T06:45:58.636482Z"
    }
   },
   "outputs": [
    {
     "data": {
      "text/html": [
       "<div>\n",
       "<style scoped>\n",
       "    .dataframe tbody tr th:only-of-type {\n",
       "        vertical-align: middle;\n",
       "    }\n",
       "\n",
       "    .dataframe tbody tr th {\n",
       "        vertical-align: top;\n",
       "    }\n",
       "\n",
       "    .dataframe thead th {\n",
       "        text-align: right;\n",
       "    }\n",
       "</style>\n",
       "<table border=\"1\" class=\"dataframe\">\n",
       "  <thead>\n",
       "    <tr style=\"text-align: right;\">\n",
       "      <th></th>\n",
       "      <th>count</th>\n",
       "      <th>unique</th>\n",
       "      <th>top</th>\n",
       "      <th>freq</th>\n",
       "    </tr>\n",
       "  </thead>\n",
       "  <tbody>\n",
       "    <tr>\n",
       "      <th>App</th>\n",
       "      <td>10841</td>\n",
       "      <td>9660</td>\n",
       "      <td>ROBLOX</td>\n",
       "      <td>9</td>\n",
       "    </tr>\n",
       "    <tr>\n",
       "      <th>Category</th>\n",
       "      <td>10841</td>\n",
       "      <td>34</td>\n",
       "      <td>FAMILY</td>\n",
       "      <td>1972</td>\n",
       "    </tr>\n",
       "    <tr>\n",
       "      <th>Size</th>\n",
       "      <td>10841</td>\n",
       "      <td>462</td>\n",
       "      <td>Varies with device</td>\n",
       "      <td>1695</td>\n",
       "    </tr>\n",
       "    <tr>\n",
       "      <th>Installs</th>\n",
       "      <td>10841</td>\n",
       "      <td>22</td>\n",
       "      <td>1,000,000+</td>\n",
       "      <td>1579</td>\n",
       "    </tr>\n",
       "    <tr>\n",
       "      <th>Type</th>\n",
       "      <td>10840</td>\n",
       "      <td>3</td>\n",
       "      <td>Free</td>\n",
       "      <td>10039</td>\n",
       "    </tr>\n",
       "    <tr>\n",
       "      <th>Price</th>\n",
       "      <td>10841</td>\n",
       "      <td>93</td>\n",
       "      <td>0</td>\n",
       "      <td>10040</td>\n",
       "    </tr>\n",
       "    <tr>\n",
       "      <th>Content Rating</th>\n",
       "      <td>10840</td>\n",
       "      <td>6</td>\n",
       "      <td>Everyone</td>\n",
       "      <td>8714</td>\n",
       "    </tr>\n",
       "    <tr>\n",
       "      <th>Genres</th>\n",
       "      <td>10841</td>\n",
       "      <td>120</td>\n",
       "      <td>Tools</td>\n",
       "      <td>842</td>\n",
       "    </tr>\n",
       "    <tr>\n",
       "      <th>Last Updated</th>\n",
       "      <td>10841</td>\n",
       "      <td>1378</td>\n",
       "      <td>August 3, 2018</td>\n",
       "      <td>326</td>\n",
       "    </tr>\n",
       "    <tr>\n",
       "      <th>Current Ver</th>\n",
       "      <td>10833</td>\n",
       "      <td>2784</td>\n",
       "      <td>Varies with device</td>\n",
       "      <td>1459</td>\n",
       "    </tr>\n",
       "    <tr>\n",
       "      <th>Android Ver</th>\n",
       "      <td>10838</td>\n",
       "      <td>33</td>\n",
       "      <td>4.1 and up</td>\n",
       "      <td>2451</td>\n",
       "    </tr>\n",
       "  </tbody>\n",
       "</table>\n",
       "</div>"
      ],
      "text/plain": [
       "                count unique                 top   freq\n",
       "App             10841   9660              ROBLOX      9\n",
       "Category        10841     34              FAMILY   1972\n",
       "Size            10841    462  Varies with device   1695\n",
       "Installs        10841     22          1,000,000+   1579\n",
       "Type            10840      3                Free  10039\n",
       "Price           10841     93                   0  10040\n",
       "Content Rating  10840      6            Everyone   8714\n",
       "Genres          10841    120               Tools    842\n",
       "Last Updated    10841   1378      August 3, 2018    326\n",
       "Current Ver     10833   2784  Varies with device   1459\n",
       "Android Ver     10838     33          4.1 and up   2451"
      ]
     },
     "execution_count": 8,
     "metadata": {},
     "output_type": "execute_result"
    }
   ],
   "source": [
    "df.describe(include=object).T"
   ]
  },
  {
   "cell_type": "code",
   "execution_count": 9,
   "id": "dfb0a4a9",
   "metadata": {
    "ExecuteTime": {
     "end_time": "2023-11-30T06:46:01.064434Z",
     "start_time": "2023-11-30T06:46:01.047263Z"
    }
   },
   "outputs": [
    {
     "data": {
      "text/plain": [
       "483"
      ]
     },
     "execution_count": 9,
     "metadata": {},
     "output_type": "execute_result"
    }
   ],
   "source": [
    "df.duplicated().sum()"
   ]
  },
  {
   "cell_type": "markdown",
   "id": "9ca8fb07",
   "metadata": {
    "ExecuteTime": {
     "end_time": "2023-12-21T07:39:25.759824Z",
     "start_time": "2023-12-21T07:39:25.756514Z"
    }
   },
   "source": [
    "### Imputing the missing values for  the Rating column"
   ]
  },
  {
   "cell_type": "code",
   "execution_count": 10,
   "id": "a26eb971",
   "metadata": {
    "ExecuteTime": {
     "end_time": "2023-11-30T06:46:04.862385Z",
     "start_time": "2023-11-30T06:46:04.002969Z"
    }
   },
   "outputs": [
    {
     "data": {
      "text/plain": [
       "App               0\n",
       "Category          0\n",
       "Rating            0\n",
       "Reviews           0\n",
       "Size              0\n",
       "Installs          0\n",
       "Type              1\n",
       "Price             0\n",
       "Content Rating    1\n",
       "Genres            0\n",
       "Last Updated      0\n",
       "Current Ver       8\n",
       "Android Ver       3\n",
       "dtype: int64"
      ]
     },
     "execution_count": 10,
     "metadata": {},
     "output_type": "execute_result"
    }
   ],
   "source": [
    "from sklearn.impute import KNNImputer\n",
    "impute = KNNImputer()\n",
    "df['Rating'] = impute.fit_transform(df[['Rating']])\n",
    "df.isnull().sum()"
   ]
  },
  {
   "cell_type": "code",
   "execution_count": 11,
   "id": "1ced2fff",
   "metadata": {
    "ExecuteTime": {
     "end_time": "2023-11-30T06:46:08.276467Z",
     "start_time": "2023-11-30T06:46:08.260792Z"
    }
   },
   "outputs": [],
   "source": [
    "df.dropna(inplace=True)"
   ]
  },
  {
   "cell_type": "code",
   "execution_count": 12,
   "id": "eda357a6",
   "metadata": {
    "ExecuteTime": {
     "end_time": "2023-11-30T06:46:11.163571Z",
     "start_time": "2023-11-30T06:46:11.152595Z"
    }
   },
   "outputs": [
    {
     "data": {
      "text/plain": [
       "App               0\n",
       "Category          0\n",
       "Rating            0\n",
       "Reviews           0\n",
       "Size              0\n",
       "Installs          0\n",
       "Type              0\n",
       "Price             0\n",
       "Content Rating    0\n",
       "Genres            0\n",
       "Last Updated      0\n",
       "Current Ver       0\n",
       "Android Ver       0\n",
       "dtype: int64"
      ]
     },
     "execution_count": 12,
     "metadata": {},
     "output_type": "execute_result"
    }
   ],
   "source": [
    "df.isnull().sum()"
   ]
  },
  {
   "cell_type": "markdown",
   "id": "82f25f64",
   "metadata": {},
   "source": [
    "### Checking for the Garbage Values"
   ]
  },
  {
   "cell_type": "code",
   "execution_count": 13,
   "id": "0396e584",
   "metadata": {
    "ExecuteTime": {
     "end_time": "2023-11-30T06:46:13.650750Z",
     "start_time": "2023-11-30T06:46:13.622262Z"
    }
   },
   "outputs": [
    {
     "name": "stdout",
     "output_type": "stream",
     "text": [
      "App\n",
      "App\n",
      "ROBLOX                                                0.000831\n",
      "CBS Sports App - Scores, News, Stats & Watch Live     0.000739\n",
      "Candy Crush Saga                                      0.000646\n",
      "8 Ball Pool                                           0.000646\n",
      "ESPN                                                  0.000646\n",
      "                                                        ...   \n",
      "Meet U - Get Friends for Snapchat, Kik & Instagram    0.000092\n",
      "U-Report                                              0.000092\n",
      "U of I Community Credit Union                         0.000092\n",
      "Waiting For U Launcher Theme                          0.000092\n",
      "iHoroscope - 2018 Daily Horoscope & Astrology         0.000092\n",
      "Name: proportion, Length: 9648, dtype: float64\n",
      "***********************************\n",
      "Category\n",
      "Category\n",
      "FAMILY                 0.181734\n",
      "GAME                   0.105642\n",
      "TOOLS                  0.077662\n",
      "MEDICAL                0.042756\n",
      "BUSINESS               0.042479\n",
      "PRODUCTIVITY           0.039154\n",
      "PERSONALIZATION        0.036014\n",
      "COMMUNICATION          0.035737\n",
      "SPORTS                 0.035460\n",
      "LIFESTYLE              0.035276\n",
      "FINANCE                0.033798\n",
      "HEALTH_AND_FITNESS     0.031490\n",
      "PHOTOGRAPHY            0.030935\n",
      "SOCIAL                 0.027242\n",
      "NEWS_AND_MAGAZINES     0.026134\n",
      "SHOPPING               0.024010\n",
      "TRAVEL_AND_LOCAL       0.023825\n",
      "DATING                 0.021609\n",
      "BOOKS_AND_REFERENCE    0.021239\n",
      "VIDEO_PLAYERS          0.016160\n",
      "EDUCATION              0.014406\n",
      "ENTERTAINMENT          0.013759\n",
      "MAPS_AND_NAVIGATION    0.012651\n",
      "FOOD_AND_DRINK         0.011728\n",
      "HOUSE_AND_HOME         0.008126\n",
      "AUTO_AND_VEHICLES      0.007849\n",
      "LIBRARIES_AND_DEMO     0.007757\n",
      "WEATHER                0.007572\n",
      "EVENTS                 0.005910\n",
      "ART_AND_DESIGN         0.005910\n",
      "PARENTING              0.005541\n",
      "COMICS                 0.005541\n",
      "BEAUTY                 0.004894\n",
      "Name: proportion, dtype: float64\n",
      "***********************************\n",
      "Size\n",
      "Size\n",
      "Varies with device    0.156432\n",
      "11M                   0.018192\n",
      "12M                   0.018100\n",
      "14M                   0.017823\n",
      "13M                   0.017638\n",
      "                        ...   \n",
      "430k                  0.000092\n",
      "429k                  0.000092\n",
      "200k                  0.000092\n",
      "460k                  0.000092\n",
      "619k                  0.000092\n",
      "Name: proportion, Length: 457, dtype: float64\n",
      "***********************************\n",
      "Installs\n",
      "Installs\n",
      "1,000,000+        0.145720\n",
      "10,000,000+       0.115615\n",
      "100,000+          0.107951\n",
      "10,000+           0.097147\n",
      "1,000+            0.083572\n",
      "5,000,000+        0.069443\n",
      "100+              0.066303\n",
      "500,000+          0.049681\n",
      "50,000+           0.044141\n",
      "5,000+            0.043956\n",
      "100,000,000+      0.037769\n",
      "10+               0.035553\n",
      "500+              0.030474\n",
      "50,000,000+       0.026688\n",
      "50+               0.018931\n",
      "5+                0.007572\n",
      "500,000,000+      0.006649\n",
      "1+                0.006187\n",
      "1,000,000,000+    0.005356\n",
      "0+                0.001293\n",
      "Name: proportion, dtype: float64\n",
      "***********************************\n",
      "Type\n",
      "Type\n",
      "Free    0.926401\n",
      "Paid    0.073599\n",
      "Name: proportion, dtype: float64\n",
      "***********************************\n",
      "Price\n",
      "Price\n",
      "0         0.926401\n",
      "$0.99     0.013482\n",
      "$2.99     0.011912\n",
      "$1.99     0.006741\n",
      "$4.99     0.006649\n",
      "            ...   \n",
      "$19.90    0.000092\n",
      "$1.75     0.000092\n",
      "$14.00    0.000092\n",
      "$4.85     0.000092\n",
      "$1.04     0.000092\n",
      "Name: proportion, Length: 92, dtype: float64\n",
      "***********************************\n",
      "Content Rating\n",
      "Content Rating\n",
      "Everyone           0.803768\n",
      "Teen               0.111552\n",
      "Mature 17+         0.046080\n",
      "Everyone 10+       0.038138\n",
      "Adults only 18+    0.000277\n",
      "Unrated            0.000185\n",
      "Name: proportion, dtype: float64\n",
      "***********************************\n",
      "Genres\n",
      "Genres\n",
      "Tools                                0.077569\n",
      "Entertainment                        0.057438\n",
      "Education                            0.050605\n",
      "Medical                              0.042756\n",
      "Business                             0.042479\n",
      "                                       ...   \n",
      "Parenting;Brain Games                0.000092\n",
      "Travel & Local;Action & Adventure    0.000092\n",
      "Lifestyle;Pretend Play               0.000092\n",
      "Tools;Education                      0.000092\n",
      "Strategy;Creativity                  0.000092\n",
      "Name: proportion, Length: 119, dtype: float64\n",
      "***********************************\n",
      "Last Updated\n",
      "Last Updated\n",
      "August 3, 2018        0.030104\n",
      "August 2, 2018        0.028073\n",
      "July 31, 2018         0.027149\n",
      "August 1, 2018        0.026318\n",
      "July 30, 2018         0.019485\n",
      "                        ...   \n",
      "April 7, 2015         0.000092\n",
      "September 22, 2014    0.000092\n",
      "October 3, 2015       0.000092\n",
      "March 13, 2015        0.000092\n",
      "March 23, 2014        0.000092\n",
      "Name: proportion, Length: 1376, dtype: float64\n",
      "***********************************\n",
      "Current Ver\n",
      "Current Ver\n",
      "Varies with device    0.134638\n",
      "1                     0.077754\n",
      "1.1                   0.025395\n",
      "1.2                   0.017084\n",
      "2                     0.015237\n",
      "                        ...   \n",
      "4.94.19               0.000092\n",
      "1.1.11.11             0.000092\n",
      "1.18.2                0.000092\n",
      "2.16.5426             0.000092\n",
      "2.0.148.0             0.000092\n",
      "Name: proportion, Length: 2783, dtype: float64\n",
      "***********************************\n",
      "Android Ver\n",
      "Android Ver\n",
      "4.1 and up            0.226337\n",
      "4.0.3 and up          0.138609\n",
      "4.0 and up            0.126789\n",
      "Varies with device    0.125681\n",
      "4.4 and up            0.090498\n",
      "2.3 and up            0.060116\n",
      "5.0 and up            0.055499\n",
      "4.2 and up            0.036291\n",
      "2.3.3 and up          0.025949\n",
      "2.2 and up            0.022532\n",
      "4.3 and up            0.022440\n",
      "3.0 and up            0.022163\n",
      "2.1 and up            0.012374\n",
      "1.6 and up            0.010620\n",
      "6.0 and up            0.005541\n",
      "7.0 and up            0.003878\n",
      "3.2 and up            0.003324\n",
      "2.0 and up            0.002863\n",
      "5.1 and up            0.002216\n",
      "1.5 and up            0.001755\n",
      "4.4W and up           0.001108\n",
      "3.1 and up            0.000923\n",
      "2.0.1 and up          0.000646\n",
      "8.0 and up            0.000554\n",
      "7.1 and up            0.000277\n",
      "4.0.3 - 7.1.1         0.000185\n",
      "5.0 - 8.0             0.000185\n",
      "1.0 and up            0.000185\n",
      "7.0 - 7.1.1           0.000092\n",
      "4.1 - 7.1.1           0.000092\n",
      "5.0 - 6.0             0.000092\n",
      "2.2 - 7.1.1           0.000092\n",
      "5.0 - 7.1.1           0.000092\n",
      "Name: proportion, dtype: float64\n",
      "***********************************\n"
     ]
    }
   ],
   "source": [
    "for feature in df.columns: \n",
    "    if df[feature].dtype == 'object': \n",
    "        print(feature)\n",
    "        print(df[feature].value_counts(normalize=True))\n",
    "        print('*'*35)\n",
    "        "
   ]
  },
  {
   "cell_type": "code",
   "execution_count": 14,
   "id": "2bfcf27a",
   "metadata": {
    "ExecuteTime": {
     "end_time": "2023-11-30T06:46:16.839204Z",
     "start_time": "2023-11-30T06:46:16.832557Z"
    }
   },
   "outputs": [
    {
     "data": {
      "text/plain": [
       "0        4.100000\n",
       "1        3.900000\n",
       "2        4.700000\n",
       "3        4.500000\n",
       "4        4.300000\n",
       "           ...   \n",
       "10836    4.500000\n",
       "10837    5.000000\n",
       "10838    4.193338\n",
       "10839    4.500000\n",
       "10840    4.500000\n",
       "Name: Rating, Length: 10829, dtype: float64"
      ]
     },
     "execution_count": 14,
     "metadata": {},
     "output_type": "execute_result"
    }
   ],
   "source": [
    "df['Rating']"
   ]
  },
  {
   "cell_type": "code",
   "execution_count": 15,
   "id": "e2770b70",
   "metadata": {
    "ExecuteTime": {
     "end_time": "2023-11-30T06:46:19.484883Z",
     "start_time": "2023-11-30T06:46:19.481378Z"
    }
   },
   "outputs": [],
   "source": [
    "df['Rating_category'] = df['Rating'] > 3.5"
   ]
  },
  {
   "cell_type": "code",
   "execution_count": 16,
   "id": "03c64cc3",
   "metadata": {
    "ExecuteTime": {
     "end_time": "2023-11-30T06:46:21.767659Z",
     "start_time": "2023-11-30T06:46:21.740593Z"
    }
   },
   "outputs": [
    {
     "data": {
      "text/html": [
       "<div>\n",
       "<style scoped>\n",
       "    .dataframe tbody tr th:only-of-type {\n",
       "        vertical-align: middle;\n",
       "    }\n",
       "\n",
       "    .dataframe tbody tr th {\n",
       "        vertical-align: top;\n",
       "    }\n",
       "\n",
       "    .dataframe thead th {\n",
       "        text-align: right;\n",
       "    }\n",
       "</style>\n",
       "<table border=\"1\" class=\"dataframe\">\n",
       "  <thead>\n",
       "    <tr style=\"text-align: right;\">\n",
       "      <th></th>\n",
       "      <th>App</th>\n",
       "      <th>Category</th>\n",
       "      <th>Rating</th>\n",
       "      <th>Reviews</th>\n",
       "      <th>Size</th>\n",
       "      <th>Installs</th>\n",
       "      <th>Type</th>\n",
       "      <th>Price</th>\n",
       "      <th>Content Rating</th>\n",
       "      <th>Genres</th>\n",
       "      <th>Last Updated</th>\n",
       "      <th>Current Ver</th>\n",
       "      <th>Android Ver</th>\n",
       "      <th>Rating_category</th>\n",
       "    </tr>\n",
       "  </thead>\n",
       "  <tbody>\n",
       "    <tr>\n",
       "      <th>0</th>\n",
       "      <td>Photo Editor &amp; Candy Camera &amp; Grid &amp; ScrapBook</td>\n",
       "      <td>ART_AND_DESIGN</td>\n",
       "      <td>4.100000</td>\n",
       "      <td>159</td>\n",
       "      <td>19M</td>\n",
       "      <td>10,000+</td>\n",
       "      <td>Free</td>\n",
       "      <td>0</td>\n",
       "      <td>Everyone</td>\n",
       "      <td>Art &amp; Design</td>\n",
       "      <td>January 7, 2018</td>\n",
       "      <td>1.0.0</td>\n",
       "      <td>4.0.3 and up</td>\n",
       "      <td>True</td>\n",
       "    </tr>\n",
       "    <tr>\n",
       "      <th>1</th>\n",
       "      <td>Coloring book moana</td>\n",
       "      <td>ART_AND_DESIGN</td>\n",
       "      <td>3.900000</td>\n",
       "      <td>967</td>\n",
       "      <td>14M</td>\n",
       "      <td>500,000+</td>\n",
       "      <td>Free</td>\n",
       "      <td>0</td>\n",
       "      <td>Everyone</td>\n",
       "      <td>Art &amp; Design;Pretend Play</td>\n",
       "      <td>January 15, 2018</td>\n",
       "      <td>2.0.0</td>\n",
       "      <td>4.0.3 and up</td>\n",
       "      <td>True</td>\n",
       "    </tr>\n",
       "    <tr>\n",
       "      <th>2</th>\n",
       "      <td>U Launcher Lite – FREE Live Cool Themes, Hide ...</td>\n",
       "      <td>ART_AND_DESIGN</td>\n",
       "      <td>4.700000</td>\n",
       "      <td>87510</td>\n",
       "      <td>8.7M</td>\n",
       "      <td>5,000,000+</td>\n",
       "      <td>Free</td>\n",
       "      <td>0</td>\n",
       "      <td>Everyone</td>\n",
       "      <td>Art &amp; Design</td>\n",
       "      <td>August 1, 2018</td>\n",
       "      <td>1.2.4</td>\n",
       "      <td>4.0.3 and up</td>\n",
       "      <td>True</td>\n",
       "    </tr>\n",
       "    <tr>\n",
       "      <th>3</th>\n",
       "      <td>Sketch - Draw &amp; Paint</td>\n",
       "      <td>ART_AND_DESIGN</td>\n",
       "      <td>4.500000</td>\n",
       "      <td>215644</td>\n",
       "      <td>25M</td>\n",
       "      <td>50,000,000+</td>\n",
       "      <td>Free</td>\n",
       "      <td>0</td>\n",
       "      <td>Teen</td>\n",
       "      <td>Art &amp; Design</td>\n",
       "      <td>June 8, 2018</td>\n",
       "      <td>Varies with device</td>\n",
       "      <td>4.2 and up</td>\n",
       "      <td>True</td>\n",
       "    </tr>\n",
       "    <tr>\n",
       "      <th>4</th>\n",
       "      <td>Pixel Draw - Number Art Coloring Book</td>\n",
       "      <td>ART_AND_DESIGN</td>\n",
       "      <td>4.300000</td>\n",
       "      <td>967</td>\n",
       "      <td>2.8M</td>\n",
       "      <td>100,000+</td>\n",
       "      <td>Free</td>\n",
       "      <td>0</td>\n",
       "      <td>Everyone</td>\n",
       "      <td>Art &amp; Design;Creativity</td>\n",
       "      <td>June 20, 2018</td>\n",
       "      <td>1.1</td>\n",
       "      <td>4.4 and up</td>\n",
       "      <td>True</td>\n",
       "    </tr>\n",
       "    <tr>\n",
       "      <th>5</th>\n",
       "      <td>Paper flowers instructions</td>\n",
       "      <td>ART_AND_DESIGN</td>\n",
       "      <td>4.400000</td>\n",
       "      <td>167</td>\n",
       "      <td>5.6M</td>\n",
       "      <td>50,000+</td>\n",
       "      <td>Free</td>\n",
       "      <td>0</td>\n",
       "      <td>Everyone</td>\n",
       "      <td>Art &amp; Design</td>\n",
       "      <td>March 26, 2017</td>\n",
       "      <td>1</td>\n",
       "      <td>2.3 and up</td>\n",
       "      <td>True</td>\n",
       "    </tr>\n",
       "    <tr>\n",
       "      <th>6</th>\n",
       "      <td>Smoke Effect Photo Maker - Smoke Editor</td>\n",
       "      <td>ART_AND_DESIGN</td>\n",
       "      <td>3.800000</td>\n",
       "      <td>178</td>\n",
       "      <td>19M</td>\n",
       "      <td>50,000+</td>\n",
       "      <td>Free</td>\n",
       "      <td>0</td>\n",
       "      <td>Everyone</td>\n",
       "      <td>Art &amp; Design</td>\n",
       "      <td>April 26, 2018</td>\n",
       "      <td>1.1</td>\n",
       "      <td>4.0.3 and up</td>\n",
       "      <td>True</td>\n",
       "    </tr>\n",
       "    <tr>\n",
       "      <th>7</th>\n",
       "      <td>Infinite Painter</td>\n",
       "      <td>ART_AND_DESIGN</td>\n",
       "      <td>4.100000</td>\n",
       "      <td>36815</td>\n",
       "      <td>29M</td>\n",
       "      <td>1,000,000+</td>\n",
       "      <td>Free</td>\n",
       "      <td>0</td>\n",
       "      <td>Everyone</td>\n",
       "      <td>Art &amp; Design</td>\n",
       "      <td>June 14, 2018</td>\n",
       "      <td>6.1.61.1</td>\n",
       "      <td>4.2 and up</td>\n",
       "      <td>True</td>\n",
       "    </tr>\n",
       "    <tr>\n",
       "      <th>8</th>\n",
       "      <td>Garden Coloring Book</td>\n",
       "      <td>ART_AND_DESIGN</td>\n",
       "      <td>4.400000</td>\n",
       "      <td>13791</td>\n",
       "      <td>33M</td>\n",
       "      <td>1,000,000+</td>\n",
       "      <td>Free</td>\n",
       "      <td>0</td>\n",
       "      <td>Everyone</td>\n",
       "      <td>Art &amp; Design</td>\n",
       "      <td>September 20, 2017</td>\n",
       "      <td>2.9.2</td>\n",
       "      <td>3.0 and up</td>\n",
       "      <td>True</td>\n",
       "    </tr>\n",
       "    <tr>\n",
       "      <th>9</th>\n",
       "      <td>Kids Paint Free - Drawing Fun</td>\n",
       "      <td>ART_AND_DESIGN</td>\n",
       "      <td>4.700000</td>\n",
       "      <td>121</td>\n",
       "      <td>3.1M</td>\n",
       "      <td>10,000+</td>\n",
       "      <td>Free</td>\n",
       "      <td>0</td>\n",
       "      <td>Everyone</td>\n",
       "      <td>Art &amp; Design;Creativity</td>\n",
       "      <td>July 3, 2018</td>\n",
       "      <td>2.8</td>\n",
       "      <td>4.0.3 and up</td>\n",
       "      <td>True</td>\n",
       "    </tr>\n",
       "    <tr>\n",
       "      <th>10</th>\n",
       "      <td>Text on Photo - Fonteee</td>\n",
       "      <td>ART_AND_DESIGN</td>\n",
       "      <td>4.400000</td>\n",
       "      <td>13880</td>\n",
       "      <td>28M</td>\n",
       "      <td>1,000,000+</td>\n",
       "      <td>Free</td>\n",
       "      <td>0</td>\n",
       "      <td>Everyone</td>\n",
       "      <td>Art &amp; Design</td>\n",
       "      <td>October 27, 2017</td>\n",
       "      <td>1.0.4</td>\n",
       "      <td>4.1 and up</td>\n",
       "      <td>True</td>\n",
       "    </tr>\n",
       "    <tr>\n",
       "      <th>11</th>\n",
       "      <td>Name Art Photo Editor - Focus n Filters</td>\n",
       "      <td>ART_AND_DESIGN</td>\n",
       "      <td>4.400000</td>\n",
       "      <td>8788</td>\n",
       "      <td>12M</td>\n",
       "      <td>1,000,000+</td>\n",
       "      <td>Free</td>\n",
       "      <td>0</td>\n",
       "      <td>Everyone</td>\n",
       "      <td>Art &amp; Design</td>\n",
       "      <td>July 31, 2018</td>\n",
       "      <td>1.0.15</td>\n",
       "      <td>4.0 and up</td>\n",
       "      <td>True</td>\n",
       "    </tr>\n",
       "    <tr>\n",
       "      <th>12</th>\n",
       "      <td>Tattoo Name On My Photo Editor</td>\n",
       "      <td>ART_AND_DESIGN</td>\n",
       "      <td>4.200000</td>\n",
       "      <td>44829</td>\n",
       "      <td>20M</td>\n",
       "      <td>10,000,000+</td>\n",
       "      <td>Free</td>\n",
       "      <td>0</td>\n",
       "      <td>Teen</td>\n",
       "      <td>Art &amp; Design</td>\n",
       "      <td>April 2, 2018</td>\n",
       "      <td>3.8</td>\n",
       "      <td>4.1 and up</td>\n",
       "      <td>True</td>\n",
       "    </tr>\n",
       "    <tr>\n",
       "      <th>13</th>\n",
       "      <td>Mandala Coloring Book</td>\n",
       "      <td>ART_AND_DESIGN</td>\n",
       "      <td>4.600000</td>\n",
       "      <td>4326</td>\n",
       "      <td>21M</td>\n",
       "      <td>100,000+</td>\n",
       "      <td>Free</td>\n",
       "      <td>0</td>\n",
       "      <td>Everyone</td>\n",
       "      <td>Art &amp; Design</td>\n",
       "      <td>June 26, 2018</td>\n",
       "      <td>1.0.4</td>\n",
       "      <td>4.4 and up</td>\n",
       "      <td>True</td>\n",
       "    </tr>\n",
       "    <tr>\n",
       "      <th>14</th>\n",
       "      <td>3D Color Pixel by Number - Sandbox Art Coloring</td>\n",
       "      <td>ART_AND_DESIGN</td>\n",
       "      <td>4.400000</td>\n",
       "      <td>1518</td>\n",
       "      <td>37M</td>\n",
       "      <td>100,000+</td>\n",
       "      <td>Free</td>\n",
       "      <td>0</td>\n",
       "      <td>Everyone</td>\n",
       "      <td>Art &amp; Design</td>\n",
       "      <td>August 3, 2018</td>\n",
       "      <td>1.2.3</td>\n",
       "      <td>2.3 and up</td>\n",
       "      <td>True</td>\n",
       "    </tr>\n",
       "    <tr>\n",
       "      <th>16</th>\n",
       "      <td>Photo Designer - Write your name with shapes</td>\n",
       "      <td>ART_AND_DESIGN</td>\n",
       "      <td>4.700000</td>\n",
       "      <td>3632</td>\n",
       "      <td>5.5M</td>\n",
       "      <td>500,000+</td>\n",
       "      <td>Free</td>\n",
       "      <td>0</td>\n",
       "      <td>Everyone</td>\n",
       "      <td>Art &amp; Design</td>\n",
       "      <td>July 31, 2018</td>\n",
       "      <td>3.1</td>\n",
       "      <td>4.1 and up</td>\n",
       "      <td>True</td>\n",
       "    </tr>\n",
       "    <tr>\n",
       "      <th>17</th>\n",
       "      <td>350 Diy Room Decor Ideas</td>\n",
       "      <td>ART_AND_DESIGN</td>\n",
       "      <td>4.500000</td>\n",
       "      <td>27</td>\n",
       "      <td>17M</td>\n",
       "      <td>10,000+</td>\n",
       "      <td>Free</td>\n",
       "      <td>0</td>\n",
       "      <td>Everyone</td>\n",
       "      <td>Art &amp; Design</td>\n",
       "      <td>November 7, 2017</td>\n",
       "      <td>1</td>\n",
       "      <td>2.3 and up</td>\n",
       "      <td>True</td>\n",
       "    </tr>\n",
       "    <tr>\n",
       "      <th>18</th>\n",
       "      <td>FlipaClip - Cartoon animation</td>\n",
       "      <td>ART_AND_DESIGN</td>\n",
       "      <td>4.300000</td>\n",
       "      <td>194216</td>\n",
       "      <td>39M</td>\n",
       "      <td>5,000,000+</td>\n",
       "      <td>Free</td>\n",
       "      <td>0</td>\n",
       "      <td>Everyone</td>\n",
       "      <td>Art &amp; Design</td>\n",
       "      <td>August 3, 2018</td>\n",
       "      <td>2.2.5</td>\n",
       "      <td>4.0.3 and up</td>\n",
       "      <td>True</td>\n",
       "    </tr>\n",
       "    <tr>\n",
       "      <th>19</th>\n",
       "      <td>ibis Paint X</td>\n",
       "      <td>ART_AND_DESIGN</td>\n",
       "      <td>4.600000</td>\n",
       "      <td>224399</td>\n",
       "      <td>31M</td>\n",
       "      <td>10,000,000+</td>\n",
       "      <td>Free</td>\n",
       "      <td>0</td>\n",
       "      <td>Everyone</td>\n",
       "      <td>Art &amp; Design</td>\n",
       "      <td>July 30, 2018</td>\n",
       "      <td>5.5.4</td>\n",
       "      <td>4.1 and up</td>\n",
       "      <td>True</td>\n",
       "    </tr>\n",
       "    <tr>\n",
       "      <th>20</th>\n",
       "      <td>Logo Maker - Small Business</td>\n",
       "      <td>ART_AND_DESIGN</td>\n",
       "      <td>4.000000</td>\n",
       "      <td>450</td>\n",
       "      <td>14M</td>\n",
       "      <td>100,000+</td>\n",
       "      <td>Free</td>\n",
       "      <td>0</td>\n",
       "      <td>Everyone</td>\n",
       "      <td>Art &amp; Design</td>\n",
       "      <td>April 20, 2018</td>\n",
       "      <td>4</td>\n",
       "      <td>4.1 and up</td>\n",
       "      <td>True</td>\n",
       "    </tr>\n",
       "    <tr>\n",
       "      <th>21</th>\n",
       "      <td>Boys Photo Editor - Six Pack &amp; Men's Suit</td>\n",
       "      <td>ART_AND_DESIGN</td>\n",
       "      <td>4.100000</td>\n",
       "      <td>654</td>\n",
       "      <td>12M</td>\n",
       "      <td>100,000+</td>\n",
       "      <td>Free</td>\n",
       "      <td>0</td>\n",
       "      <td>Everyone</td>\n",
       "      <td>Art &amp; Design</td>\n",
       "      <td>March 20, 2018</td>\n",
       "      <td>1.1</td>\n",
       "      <td>4.0.3 and up</td>\n",
       "      <td>True</td>\n",
       "    </tr>\n",
       "    <tr>\n",
       "      <th>22</th>\n",
       "      <td>Superheroes Wallpapers | 4K Backgrounds</td>\n",
       "      <td>ART_AND_DESIGN</td>\n",
       "      <td>4.700000</td>\n",
       "      <td>7699</td>\n",
       "      <td>4.2M</td>\n",
       "      <td>500,000+</td>\n",
       "      <td>Free</td>\n",
       "      <td>0</td>\n",
       "      <td>Everyone 10+</td>\n",
       "      <td>Art &amp; Design</td>\n",
       "      <td>July 12, 2018</td>\n",
       "      <td>2.2.6.2</td>\n",
       "      <td>4.0.3 and up</td>\n",
       "      <td>True</td>\n",
       "    </tr>\n",
       "    <tr>\n",
       "      <th>23</th>\n",
       "      <td>Mcqueen Coloring pages</td>\n",
       "      <td>ART_AND_DESIGN</td>\n",
       "      <td>4.193338</td>\n",
       "      <td>61</td>\n",
       "      <td>7.0M</td>\n",
       "      <td>100,000+</td>\n",
       "      <td>Free</td>\n",
       "      <td>0</td>\n",
       "      <td>Everyone</td>\n",
       "      <td>Art &amp; Design;Action &amp; Adventure</td>\n",
       "      <td>March 7, 2018</td>\n",
       "      <td>1.0.0</td>\n",
       "      <td>4.1 and up</td>\n",
       "      <td>True</td>\n",
       "    </tr>\n",
       "    <tr>\n",
       "      <th>24</th>\n",
       "      <td>HD Mickey Minnie Wallpapers</td>\n",
       "      <td>ART_AND_DESIGN</td>\n",
       "      <td>4.700000</td>\n",
       "      <td>118</td>\n",
       "      <td>23M</td>\n",
       "      <td>50,000+</td>\n",
       "      <td>Free</td>\n",
       "      <td>0</td>\n",
       "      <td>Everyone</td>\n",
       "      <td>Art &amp; Design</td>\n",
       "      <td>July 7, 2018</td>\n",
       "      <td>1.1.3</td>\n",
       "      <td>4.1 and up</td>\n",
       "      <td>True</td>\n",
       "    </tr>\n",
       "    <tr>\n",
       "      <th>25</th>\n",
       "      <td>Harley Quinn wallpapers HD</td>\n",
       "      <td>ART_AND_DESIGN</td>\n",
       "      <td>4.800000</td>\n",
       "      <td>192</td>\n",
       "      <td>6.0M</td>\n",
       "      <td>10,000+</td>\n",
       "      <td>Free</td>\n",
       "      <td>0</td>\n",
       "      <td>Everyone</td>\n",
       "      <td>Art &amp; Design</td>\n",
       "      <td>April 25, 2018</td>\n",
       "      <td>1.5</td>\n",
       "      <td>3.0 and up</td>\n",
       "      <td>True</td>\n",
       "    </tr>\n",
       "    <tr>\n",
       "      <th>26</th>\n",
       "      <td>Colorfit - Drawing &amp; Coloring</td>\n",
       "      <td>ART_AND_DESIGN</td>\n",
       "      <td>4.700000</td>\n",
       "      <td>20260</td>\n",
       "      <td>25M</td>\n",
       "      <td>500,000+</td>\n",
       "      <td>Free</td>\n",
       "      <td>0</td>\n",
       "      <td>Everyone</td>\n",
       "      <td>Art &amp; Design;Creativity</td>\n",
       "      <td>October 11, 2017</td>\n",
       "      <td>1.0.8</td>\n",
       "      <td>4.0.3 and up</td>\n",
       "      <td>True</td>\n",
       "    </tr>\n",
       "    <tr>\n",
       "      <th>27</th>\n",
       "      <td>Animated Photo Editor</td>\n",
       "      <td>ART_AND_DESIGN</td>\n",
       "      <td>4.100000</td>\n",
       "      <td>203</td>\n",
       "      <td>6.1M</td>\n",
       "      <td>100,000+</td>\n",
       "      <td>Free</td>\n",
       "      <td>0</td>\n",
       "      <td>Everyone</td>\n",
       "      <td>Art &amp; Design</td>\n",
       "      <td>March 21, 2018</td>\n",
       "      <td>1.03</td>\n",
       "      <td>4.0.3 and up</td>\n",
       "      <td>True</td>\n",
       "    </tr>\n",
       "    <tr>\n",
       "      <th>28</th>\n",
       "      <td>Pencil Sketch Drawing</td>\n",
       "      <td>ART_AND_DESIGN</td>\n",
       "      <td>3.900000</td>\n",
       "      <td>136</td>\n",
       "      <td>4.6M</td>\n",
       "      <td>10,000+</td>\n",
       "      <td>Free</td>\n",
       "      <td>0</td>\n",
       "      <td>Everyone</td>\n",
       "      <td>Art &amp; Design</td>\n",
       "      <td>July 12, 2018</td>\n",
       "      <td>6</td>\n",
       "      <td>2.3 and up</td>\n",
       "      <td>True</td>\n",
       "    </tr>\n",
       "    <tr>\n",
       "      <th>29</th>\n",
       "      <td>Easy Realistic Drawing Tutorial</td>\n",
       "      <td>ART_AND_DESIGN</td>\n",
       "      <td>4.100000</td>\n",
       "      <td>223</td>\n",
       "      <td>4.2M</td>\n",
       "      <td>100,000+</td>\n",
       "      <td>Free</td>\n",
       "      <td>0</td>\n",
       "      <td>Everyone</td>\n",
       "      <td>Art &amp; Design</td>\n",
       "      <td>August 22, 2017</td>\n",
       "      <td>1</td>\n",
       "      <td>2.3 and up</td>\n",
       "      <td>True</td>\n",
       "    </tr>\n",
       "    <tr>\n",
       "      <th>30</th>\n",
       "      <td>Pink Silver Bow Keyboard Theme</td>\n",
       "      <td>ART_AND_DESIGN</td>\n",
       "      <td>4.200000</td>\n",
       "      <td>1120</td>\n",
       "      <td>9.2M</td>\n",
       "      <td>100,000+</td>\n",
       "      <td>Free</td>\n",
       "      <td>0</td>\n",
       "      <td>Everyone</td>\n",
       "      <td>Art &amp; Design</td>\n",
       "      <td>July 12, 2018</td>\n",
       "      <td>6.7.12.2018</td>\n",
       "      <td>4.0.3 and up</td>\n",
       "      <td>True</td>\n",
       "    </tr>\n",
       "    <tr>\n",
       "      <th>31</th>\n",
       "      <td>Art Drawing Ideas</td>\n",
       "      <td>ART_AND_DESIGN</td>\n",
       "      <td>4.100000</td>\n",
       "      <td>227</td>\n",
       "      <td>5.2M</td>\n",
       "      <td>50,000+</td>\n",
       "      <td>Free</td>\n",
       "      <td>0</td>\n",
       "      <td>Everyone</td>\n",
       "      <td>Art &amp; Design</td>\n",
       "      <td>May 31, 2018</td>\n",
       "      <td>1.2</td>\n",
       "      <td>2.3 and up</td>\n",
       "      <td>True</td>\n",
       "    </tr>\n",
       "    <tr>\n",
       "      <th>32</th>\n",
       "      <td>Anime Manga Coloring Book</td>\n",
       "      <td>ART_AND_DESIGN</td>\n",
       "      <td>4.500000</td>\n",
       "      <td>5035</td>\n",
       "      <td>11M</td>\n",
       "      <td>100,000+</td>\n",
       "      <td>Free</td>\n",
       "      <td>0</td>\n",
       "      <td>Everyone</td>\n",
       "      <td>Art &amp; Design</td>\n",
       "      <td>July 19, 2018</td>\n",
       "      <td>2.2</td>\n",
       "      <td>4.0 and up</td>\n",
       "      <td>True</td>\n",
       "    </tr>\n",
       "    <tr>\n",
       "      <th>33</th>\n",
       "      <td>Easy Origami Ideas</td>\n",
       "      <td>ART_AND_DESIGN</td>\n",
       "      <td>4.200000</td>\n",
       "      <td>1015</td>\n",
       "      <td>11M</td>\n",
       "      <td>100,000+</td>\n",
       "      <td>Free</td>\n",
       "      <td>0</td>\n",
       "      <td>Everyone</td>\n",
       "      <td>Art &amp; Design</td>\n",
       "      <td>January 6, 2018</td>\n",
       "      <td>1.1.0</td>\n",
       "      <td>4.1 and up</td>\n",
       "      <td>True</td>\n",
       "    </tr>\n",
       "    <tr>\n",
       "      <th>34</th>\n",
       "      <td>I Creative Idea</td>\n",
       "      <td>ART_AND_DESIGN</td>\n",
       "      <td>4.700000</td>\n",
       "      <td>353</td>\n",
       "      <td>4.2M</td>\n",
       "      <td>10,000+</td>\n",
       "      <td>Free</td>\n",
       "      <td>0</td>\n",
       "      <td>Teen</td>\n",
       "      <td>Art &amp; Design</td>\n",
       "      <td>April 27, 2018</td>\n",
       "      <td>1.6</td>\n",
       "      <td>4.1 and up</td>\n",
       "      <td>True</td>\n",
       "    </tr>\n",
       "    <tr>\n",
       "      <th>35</th>\n",
       "      <td>How to draw Ladybug and Cat Noir</td>\n",
       "      <td>ART_AND_DESIGN</td>\n",
       "      <td>3.800000</td>\n",
       "      <td>564</td>\n",
       "      <td>9.2M</td>\n",
       "      <td>100,000+</td>\n",
       "      <td>Free</td>\n",
       "      <td>0</td>\n",
       "      <td>Everyone</td>\n",
       "      <td>Art &amp; Design</td>\n",
       "      <td>July 11, 2018</td>\n",
       "      <td>2.1</td>\n",
       "      <td>4.1 and up</td>\n",
       "      <td>True</td>\n",
       "    </tr>\n",
       "    <tr>\n",
       "      <th>36</th>\n",
       "      <td>UNICORN - Color By Number &amp; Pixel Art Coloring</td>\n",
       "      <td>ART_AND_DESIGN</td>\n",
       "      <td>4.700000</td>\n",
       "      <td>8145</td>\n",
       "      <td>24M</td>\n",
       "      <td>500,000+</td>\n",
       "      <td>Free</td>\n",
       "      <td>0</td>\n",
       "      <td>Everyone</td>\n",
       "      <td>Art &amp; Design;Creativity</td>\n",
       "      <td>August 2, 2018</td>\n",
       "      <td>1.0.9</td>\n",
       "      <td>4.4 and up</td>\n",
       "      <td>True</td>\n",
       "    </tr>\n",
       "    <tr>\n",
       "      <th>37</th>\n",
       "      <td>Floor Plan Creator</td>\n",
       "      <td>ART_AND_DESIGN</td>\n",
       "      <td>4.100000</td>\n",
       "      <td>36639</td>\n",
       "      <td>Varies with device</td>\n",
       "      <td>5,000,000+</td>\n",
       "      <td>Free</td>\n",
       "      <td>0</td>\n",
       "      <td>Everyone</td>\n",
       "      <td>Art &amp; Design</td>\n",
       "      <td>July 14, 2018</td>\n",
       "      <td>Varies with device</td>\n",
       "      <td>2.3.3 and up</td>\n",
       "      <td>True</td>\n",
       "    </tr>\n",
       "    <tr>\n",
       "      <th>38</th>\n",
       "      <td>PIP Camera - PIP Collage Maker</td>\n",
       "      <td>ART_AND_DESIGN</td>\n",
       "      <td>4.700000</td>\n",
       "      <td>158</td>\n",
       "      <td>11M</td>\n",
       "      <td>10,000+</td>\n",
       "      <td>Free</td>\n",
       "      <td>0</td>\n",
       "      <td>Everyone</td>\n",
       "      <td>Art &amp; Design</td>\n",
       "      <td>November 29, 2017</td>\n",
       "      <td>1.3</td>\n",
       "      <td>4.0.3 and up</td>\n",
       "      <td>True</td>\n",
       "    </tr>\n",
       "    <tr>\n",
       "      <th>39</th>\n",
       "      <td>How To Color Disney Princess - Coloring Pages</td>\n",
       "      <td>ART_AND_DESIGN</td>\n",
       "      <td>4.000000</td>\n",
       "      <td>591</td>\n",
       "      <td>9.4M</td>\n",
       "      <td>500,000+</td>\n",
       "      <td>Free</td>\n",
       "      <td>0</td>\n",
       "      <td>Everyone</td>\n",
       "      <td>Art &amp; Design</td>\n",
       "      <td>March 31, 2018</td>\n",
       "      <td>1</td>\n",
       "      <td>4.0 and up</td>\n",
       "      <td>True</td>\n",
       "    </tr>\n",
       "    <tr>\n",
       "      <th>40</th>\n",
       "      <td>Drawing Clothes Fashion Ideas</td>\n",
       "      <td>ART_AND_DESIGN</td>\n",
       "      <td>4.200000</td>\n",
       "      <td>117</td>\n",
       "      <td>15M</td>\n",
       "      <td>10,000+</td>\n",
       "      <td>Free</td>\n",
       "      <td>0</td>\n",
       "      <td>Everyone</td>\n",
       "      <td>Art &amp; Design</td>\n",
       "      <td>July 20, 2018</td>\n",
       "      <td>2.0.1</td>\n",
       "      <td>4.0.3 and up</td>\n",
       "      <td>True</td>\n",
       "    </tr>\n",
       "    <tr>\n",
       "      <th>41</th>\n",
       "      <td>Sad Poetry Photo Frames 2018</td>\n",
       "      <td>ART_AND_DESIGN</td>\n",
       "      <td>4.500000</td>\n",
       "      <td>176</td>\n",
       "      <td>10M</td>\n",
       "      <td>100,000+</td>\n",
       "      <td>Free</td>\n",
       "      <td>0</td>\n",
       "      <td>Everyone</td>\n",
       "      <td>Art &amp; Design</td>\n",
       "      <td>April 2, 2018</td>\n",
       "      <td>1</td>\n",
       "      <td>4.0.3 and up</td>\n",
       "      <td>True</td>\n",
       "    </tr>\n",
       "    <tr>\n",
       "      <th>42</th>\n",
       "      <td>Textgram - write on photos</td>\n",
       "      <td>ART_AND_DESIGN</td>\n",
       "      <td>4.400000</td>\n",
       "      <td>295221</td>\n",
       "      <td>Varies with device</td>\n",
       "      <td>10,000,000+</td>\n",
       "      <td>Free</td>\n",
       "      <td>0</td>\n",
       "      <td>Everyone</td>\n",
       "      <td>Art &amp; Design</td>\n",
       "      <td>July 30, 2018</td>\n",
       "      <td>Varies with device</td>\n",
       "      <td>Varies with device</td>\n",
       "      <td>True</td>\n",
       "    </tr>\n",
       "    <tr>\n",
       "      <th>43</th>\n",
       "      <td>Paint Splash!</td>\n",
       "      <td>ART_AND_DESIGN</td>\n",
       "      <td>3.800000</td>\n",
       "      <td>2206</td>\n",
       "      <td>1.2M</td>\n",
       "      <td>100,000+</td>\n",
       "      <td>Free</td>\n",
       "      <td>0</td>\n",
       "      <td>Everyone</td>\n",
       "      <td>Art &amp; Design;Creativity</td>\n",
       "      <td>April 15, 2018</td>\n",
       "      <td>1.46</td>\n",
       "      <td>4.1 and up</td>\n",
       "      <td>True</td>\n",
       "    </tr>\n",
       "    <tr>\n",
       "      <th>44</th>\n",
       "      <td>Popsicle Sticks and Similar DIY Craft Ideas</td>\n",
       "      <td>ART_AND_DESIGN</td>\n",
       "      <td>4.200000</td>\n",
       "      <td>26</td>\n",
       "      <td>12M</td>\n",
       "      <td>10,000+</td>\n",
       "      <td>Free</td>\n",
       "      <td>0</td>\n",
       "      <td>Everyone</td>\n",
       "      <td>Art &amp; Design</td>\n",
       "      <td>January 3, 2018</td>\n",
       "      <td>1.0.0</td>\n",
       "      <td>4.1 and up</td>\n",
       "      <td>True</td>\n",
       "    </tr>\n",
       "    <tr>\n",
       "      <th>45</th>\n",
       "      <td>Canva: Poster, banner, card maker &amp; graphic de...</td>\n",
       "      <td>ART_AND_DESIGN</td>\n",
       "      <td>4.700000</td>\n",
       "      <td>174531</td>\n",
       "      <td>24M</td>\n",
       "      <td>10,000,000+</td>\n",
       "      <td>Free</td>\n",
       "      <td>0</td>\n",
       "      <td>Everyone</td>\n",
       "      <td>Art &amp; Design</td>\n",
       "      <td>July 31, 2018</td>\n",
       "      <td>1.6.1</td>\n",
       "      <td>4.1 and up</td>\n",
       "      <td>True</td>\n",
       "    </tr>\n",
       "    <tr>\n",
       "      <th>46</th>\n",
       "      <td>Install images with music to make video withou...</td>\n",
       "      <td>ART_AND_DESIGN</td>\n",
       "      <td>4.600000</td>\n",
       "      <td>1070</td>\n",
       "      <td>26M</td>\n",
       "      <td>100,000+</td>\n",
       "      <td>Free</td>\n",
       "      <td>0</td>\n",
       "      <td>Everyone</td>\n",
       "      <td>Art &amp; Design</td>\n",
       "      <td>November 14, 2017</td>\n",
       "      <td>1.6</td>\n",
       "      <td>4.1 and up</td>\n",
       "      <td>True</td>\n",
       "    </tr>\n",
       "    <tr>\n",
       "      <th>47</th>\n",
       "      <td>Little Teddy Bear Colouring Book Game</td>\n",
       "      <td>ART_AND_DESIGN</td>\n",
       "      <td>4.200000</td>\n",
       "      <td>85</td>\n",
       "      <td>8.0M</td>\n",
       "      <td>100,000+</td>\n",
       "      <td>Free</td>\n",
       "      <td>0</td>\n",
       "      <td>Everyone</td>\n",
       "      <td>Art &amp; Design</td>\n",
       "      <td>December 17, 2017</td>\n",
       "      <td>2.0.0</td>\n",
       "      <td>4.1 and up</td>\n",
       "      <td>True</td>\n",
       "    </tr>\n",
       "    <tr>\n",
       "      <th>48</th>\n",
       "      <td>How To Draw Food</td>\n",
       "      <td>ART_AND_DESIGN</td>\n",
       "      <td>4.300000</td>\n",
       "      <td>845</td>\n",
       "      <td>7.9M</td>\n",
       "      <td>100,000+</td>\n",
       "      <td>Free</td>\n",
       "      <td>0</td>\n",
       "      <td>Everyone</td>\n",
       "      <td>Art &amp; Design</td>\n",
       "      <td>May 28, 2018</td>\n",
       "      <td>1</td>\n",
       "      <td>2.3 and up</td>\n",
       "      <td>True</td>\n",
       "    </tr>\n",
       "    <tr>\n",
       "      <th>49</th>\n",
       "      <td>Monster Truck Stunt 3D 2019</td>\n",
       "      <td>AUTO_AND_VEHICLES</td>\n",
       "      <td>4.200000</td>\n",
       "      <td>367</td>\n",
       "      <td>25M</td>\n",
       "      <td>100,000+</td>\n",
       "      <td>Free</td>\n",
       "      <td>0</td>\n",
       "      <td>Everyone</td>\n",
       "      <td>Auto &amp; Vehicles</td>\n",
       "      <td>May 10, 2018</td>\n",
       "      <td>1</td>\n",
       "      <td>4.0.3 and up</td>\n",
       "      <td>True</td>\n",
       "    </tr>\n",
       "    <tr>\n",
       "      <th>50</th>\n",
       "      <td>Real Tractor Farming</td>\n",
       "      <td>AUTO_AND_VEHICLES</td>\n",
       "      <td>4.000000</td>\n",
       "      <td>1598</td>\n",
       "      <td>56M</td>\n",
       "      <td>1,000,000+</td>\n",
       "      <td>Free</td>\n",
       "      <td>0</td>\n",
       "      <td>Everyone</td>\n",
       "      <td>Auto &amp; Vehicles</td>\n",
       "      <td>July 26, 2018</td>\n",
       "      <td>11</td>\n",
       "      <td>4.1 and up</td>\n",
       "      <td>True</td>\n",
       "    </tr>\n",
       "  </tbody>\n",
       "</table>\n",
       "</div>"
      ],
      "text/plain": [
       "                                                  App           Category  \\\n",
       "0      Photo Editor & Candy Camera & Grid & ScrapBook     ART_AND_DESIGN   \n",
       "1                                 Coloring book moana     ART_AND_DESIGN   \n",
       "2   U Launcher Lite – FREE Live Cool Themes, Hide ...     ART_AND_DESIGN   \n",
       "3                               Sketch - Draw & Paint     ART_AND_DESIGN   \n",
       "4               Pixel Draw - Number Art Coloring Book     ART_AND_DESIGN   \n",
       "5                          Paper flowers instructions     ART_AND_DESIGN   \n",
       "6             Smoke Effect Photo Maker - Smoke Editor     ART_AND_DESIGN   \n",
       "7                                    Infinite Painter     ART_AND_DESIGN   \n",
       "8                                Garden Coloring Book     ART_AND_DESIGN   \n",
       "9                       Kids Paint Free - Drawing Fun     ART_AND_DESIGN   \n",
       "10                            Text on Photo - Fonteee     ART_AND_DESIGN   \n",
       "11            Name Art Photo Editor - Focus n Filters     ART_AND_DESIGN   \n",
       "12                     Tattoo Name On My Photo Editor     ART_AND_DESIGN   \n",
       "13                              Mandala Coloring Book     ART_AND_DESIGN   \n",
       "14    3D Color Pixel by Number - Sandbox Art Coloring     ART_AND_DESIGN   \n",
       "16       Photo Designer - Write your name with shapes     ART_AND_DESIGN   \n",
       "17                           350 Diy Room Decor Ideas     ART_AND_DESIGN   \n",
       "18                      FlipaClip - Cartoon animation     ART_AND_DESIGN   \n",
       "19                                       ibis Paint X     ART_AND_DESIGN   \n",
       "20                        Logo Maker - Small Business     ART_AND_DESIGN   \n",
       "21          Boys Photo Editor - Six Pack & Men's Suit     ART_AND_DESIGN   \n",
       "22            Superheroes Wallpapers | 4K Backgrounds     ART_AND_DESIGN   \n",
       "23                             Mcqueen Coloring pages     ART_AND_DESIGN   \n",
       "24                        HD Mickey Minnie Wallpapers     ART_AND_DESIGN   \n",
       "25                         Harley Quinn wallpapers HD     ART_AND_DESIGN   \n",
       "26                      Colorfit - Drawing & Coloring     ART_AND_DESIGN   \n",
       "27                              Animated Photo Editor     ART_AND_DESIGN   \n",
       "28                              Pencil Sketch Drawing     ART_AND_DESIGN   \n",
       "29                    Easy Realistic Drawing Tutorial     ART_AND_DESIGN   \n",
       "30                     Pink Silver Bow Keyboard Theme     ART_AND_DESIGN   \n",
       "31                                  Art Drawing Ideas     ART_AND_DESIGN   \n",
       "32                          Anime Manga Coloring Book     ART_AND_DESIGN   \n",
       "33                                 Easy Origami Ideas     ART_AND_DESIGN   \n",
       "34                                    I Creative Idea     ART_AND_DESIGN   \n",
       "35                   How to draw Ladybug and Cat Noir     ART_AND_DESIGN   \n",
       "36     UNICORN - Color By Number & Pixel Art Coloring     ART_AND_DESIGN   \n",
       "37                                 Floor Plan Creator     ART_AND_DESIGN   \n",
       "38                     PIP Camera - PIP Collage Maker     ART_AND_DESIGN   \n",
       "39      How To Color Disney Princess - Coloring Pages     ART_AND_DESIGN   \n",
       "40                      Drawing Clothes Fashion Ideas     ART_AND_DESIGN   \n",
       "41                       Sad Poetry Photo Frames 2018     ART_AND_DESIGN   \n",
       "42                         Textgram - write on photos     ART_AND_DESIGN   \n",
       "43                                      Paint Splash!     ART_AND_DESIGN   \n",
       "44        Popsicle Sticks and Similar DIY Craft Ideas     ART_AND_DESIGN   \n",
       "45  Canva: Poster, banner, card maker & graphic de...     ART_AND_DESIGN   \n",
       "46  Install images with music to make video withou...     ART_AND_DESIGN   \n",
       "47              Little Teddy Bear Colouring Book Game     ART_AND_DESIGN   \n",
       "48                                   How To Draw Food     ART_AND_DESIGN   \n",
       "49                        Monster Truck Stunt 3D 2019  AUTO_AND_VEHICLES   \n",
       "50                               Real Tractor Farming  AUTO_AND_VEHICLES   \n",
       "\n",
       "      Rating  Reviews                Size     Installs  Type Price  \\\n",
       "0   4.100000      159                 19M      10,000+  Free     0   \n",
       "1   3.900000      967                 14M     500,000+  Free     0   \n",
       "2   4.700000    87510                8.7M   5,000,000+  Free     0   \n",
       "3   4.500000   215644                 25M  50,000,000+  Free     0   \n",
       "4   4.300000      967                2.8M     100,000+  Free     0   \n",
       "5   4.400000      167                5.6M      50,000+  Free     0   \n",
       "6   3.800000      178                 19M      50,000+  Free     0   \n",
       "7   4.100000    36815                 29M   1,000,000+  Free     0   \n",
       "8   4.400000    13791                 33M   1,000,000+  Free     0   \n",
       "9   4.700000      121                3.1M      10,000+  Free     0   \n",
       "10  4.400000    13880                 28M   1,000,000+  Free     0   \n",
       "11  4.400000     8788                 12M   1,000,000+  Free     0   \n",
       "12  4.200000    44829                 20M  10,000,000+  Free     0   \n",
       "13  4.600000     4326                 21M     100,000+  Free     0   \n",
       "14  4.400000     1518                 37M     100,000+  Free     0   \n",
       "16  4.700000     3632                5.5M     500,000+  Free     0   \n",
       "17  4.500000       27                 17M      10,000+  Free     0   \n",
       "18  4.300000   194216                 39M   5,000,000+  Free     0   \n",
       "19  4.600000   224399                 31M  10,000,000+  Free     0   \n",
       "20  4.000000      450                 14M     100,000+  Free     0   \n",
       "21  4.100000      654                 12M     100,000+  Free     0   \n",
       "22  4.700000     7699                4.2M     500,000+  Free     0   \n",
       "23  4.193338       61                7.0M     100,000+  Free     0   \n",
       "24  4.700000      118                 23M      50,000+  Free     0   \n",
       "25  4.800000      192                6.0M      10,000+  Free     0   \n",
       "26  4.700000    20260                 25M     500,000+  Free     0   \n",
       "27  4.100000      203                6.1M     100,000+  Free     0   \n",
       "28  3.900000      136                4.6M      10,000+  Free     0   \n",
       "29  4.100000      223                4.2M     100,000+  Free     0   \n",
       "30  4.200000     1120                9.2M     100,000+  Free     0   \n",
       "31  4.100000      227                5.2M      50,000+  Free     0   \n",
       "32  4.500000     5035                 11M     100,000+  Free     0   \n",
       "33  4.200000     1015                 11M     100,000+  Free     0   \n",
       "34  4.700000      353                4.2M      10,000+  Free     0   \n",
       "35  3.800000      564                9.2M     100,000+  Free     0   \n",
       "36  4.700000     8145                 24M     500,000+  Free     0   \n",
       "37  4.100000    36639  Varies with device   5,000,000+  Free     0   \n",
       "38  4.700000      158                 11M      10,000+  Free     0   \n",
       "39  4.000000      591                9.4M     500,000+  Free     0   \n",
       "40  4.200000      117                 15M      10,000+  Free     0   \n",
       "41  4.500000      176                 10M     100,000+  Free     0   \n",
       "42  4.400000   295221  Varies with device  10,000,000+  Free     0   \n",
       "43  3.800000     2206                1.2M     100,000+  Free     0   \n",
       "44  4.200000       26                 12M      10,000+  Free     0   \n",
       "45  4.700000   174531                 24M  10,000,000+  Free     0   \n",
       "46  4.600000     1070                 26M     100,000+  Free     0   \n",
       "47  4.200000       85                8.0M     100,000+  Free     0   \n",
       "48  4.300000      845                7.9M     100,000+  Free     0   \n",
       "49  4.200000      367                 25M     100,000+  Free     0   \n",
       "50  4.000000     1598                 56M   1,000,000+  Free     0   \n",
       "\n",
       "   Content Rating                           Genres        Last Updated  \\\n",
       "0        Everyone                     Art & Design     January 7, 2018   \n",
       "1        Everyone        Art & Design;Pretend Play    January 15, 2018   \n",
       "2        Everyone                     Art & Design      August 1, 2018   \n",
       "3            Teen                     Art & Design        June 8, 2018   \n",
       "4        Everyone          Art & Design;Creativity       June 20, 2018   \n",
       "5        Everyone                     Art & Design      March 26, 2017   \n",
       "6        Everyone                     Art & Design      April 26, 2018   \n",
       "7        Everyone                     Art & Design       June 14, 2018   \n",
       "8        Everyone                     Art & Design  September 20, 2017   \n",
       "9        Everyone          Art & Design;Creativity        July 3, 2018   \n",
       "10       Everyone                     Art & Design    October 27, 2017   \n",
       "11       Everyone                     Art & Design       July 31, 2018   \n",
       "12           Teen                     Art & Design       April 2, 2018   \n",
       "13       Everyone                     Art & Design       June 26, 2018   \n",
       "14       Everyone                     Art & Design      August 3, 2018   \n",
       "16       Everyone                     Art & Design       July 31, 2018   \n",
       "17       Everyone                     Art & Design    November 7, 2017   \n",
       "18       Everyone                     Art & Design      August 3, 2018   \n",
       "19       Everyone                     Art & Design       July 30, 2018   \n",
       "20       Everyone                     Art & Design      April 20, 2018   \n",
       "21       Everyone                     Art & Design      March 20, 2018   \n",
       "22   Everyone 10+                     Art & Design       July 12, 2018   \n",
       "23       Everyone  Art & Design;Action & Adventure       March 7, 2018   \n",
       "24       Everyone                     Art & Design        July 7, 2018   \n",
       "25       Everyone                     Art & Design      April 25, 2018   \n",
       "26       Everyone          Art & Design;Creativity    October 11, 2017   \n",
       "27       Everyone                     Art & Design      March 21, 2018   \n",
       "28       Everyone                     Art & Design       July 12, 2018   \n",
       "29       Everyone                     Art & Design     August 22, 2017   \n",
       "30       Everyone                     Art & Design       July 12, 2018   \n",
       "31       Everyone                     Art & Design        May 31, 2018   \n",
       "32       Everyone                     Art & Design       July 19, 2018   \n",
       "33       Everyone                     Art & Design     January 6, 2018   \n",
       "34           Teen                     Art & Design      April 27, 2018   \n",
       "35       Everyone                     Art & Design       July 11, 2018   \n",
       "36       Everyone          Art & Design;Creativity      August 2, 2018   \n",
       "37       Everyone                     Art & Design       July 14, 2018   \n",
       "38       Everyone                     Art & Design   November 29, 2017   \n",
       "39       Everyone                     Art & Design      March 31, 2018   \n",
       "40       Everyone                     Art & Design       July 20, 2018   \n",
       "41       Everyone                     Art & Design       April 2, 2018   \n",
       "42       Everyone                     Art & Design       July 30, 2018   \n",
       "43       Everyone          Art & Design;Creativity      April 15, 2018   \n",
       "44       Everyone                     Art & Design     January 3, 2018   \n",
       "45       Everyone                     Art & Design       July 31, 2018   \n",
       "46       Everyone                     Art & Design   November 14, 2017   \n",
       "47       Everyone                     Art & Design   December 17, 2017   \n",
       "48       Everyone                     Art & Design        May 28, 2018   \n",
       "49       Everyone                  Auto & Vehicles        May 10, 2018   \n",
       "50       Everyone                  Auto & Vehicles       July 26, 2018   \n",
       "\n",
       "           Current Ver         Android Ver  Rating_category  \n",
       "0                1.0.0        4.0.3 and up             True  \n",
       "1                2.0.0        4.0.3 and up             True  \n",
       "2                1.2.4        4.0.3 and up             True  \n",
       "3   Varies with device          4.2 and up             True  \n",
       "4                  1.1          4.4 and up             True  \n",
       "5                    1          2.3 and up             True  \n",
       "6                  1.1        4.0.3 and up             True  \n",
       "7             6.1.61.1          4.2 and up             True  \n",
       "8                2.9.2          3.0 and up             True  \n",
       "9                  2.8        4.0.3 and up             True  \n",
       "10               1.0.4          4.1 and up             True  \n",
       "11              1.0.15          4.0 and up             True  \n",
       "12                 3.8          4.1 and up             True  \n",
       "13               1.0.4          4.4 and up             True  \n",
       "14               1.2.3          2.3 and up             True  \n",
       "16                 3.1          4.1 and up             True  \n",
       "17                   1          2.3 and up             True  \n",
       "18               2.2.5        4.0.3 and up             True  \n",
       "19               5.5.4          4.1 and up             True  \n",
       "20                   4          4.1 and up             True  \n",
       "21                 1.1        4.0.3 and up             True  \n",
       "22             2.2.6.2        4.0.3 and up             True  \n",
       "23               1.0.0          4.1 and up             True  \n",
       "24               1.1.3          4.1 and up             True  \n",
       "25                 1.5          3.0 and up             True  \n",
       "26               1.0.8        4.0.3 and up             True  \n",
       "27                1.03        4.0.3 and up             True  \n",
       "28                   6          2.3 and up             True  \n",
       "29                   1          2.3 and up             True  \n",
       "30         6.7.12.2018        4.0.3 and up             True  \n",
       "31                 1.2          2.3 and up             True  \n",
       "32                 2.2          4.0 and up             True  \n",
       "33               1.1.0          4.1 and up             True  \n",
       "34                 1.6          4.1 and up             True  \n",
       "35                 2.1          4.1 and up             True  \n",
       "36               1.0.9          4.4 and up             True  \n",
       "37  Varies with device        2.3.3 and up             True  \n",
       "38                 1.3        4.0.3 and up             True  \n",
       "39                   1          4.0 and up             True  \n",
       "40               2.0.1        4.0.3 and up             True  \n",
       "41                   1        4.0.3 and up             True  \n",
       "42  Varies with device  Varies with device             True  \n",
       "43                1.46          4.1 and up             True  \n",
       "44               1.0.0          4.1 and up             True  \n",
       "45               1.6.1          4.1 and up             True  \n",
       "46                 1.6          4.1 and up             True  \n",
       "47               2.0.0          4.1 and up             True  \n",
       "48                   1          2.3 and up             True  \n",
       "49                   1        4.0.3 and up             True  \n",
       "50                  11          4.1 and up             True  "
      ]
     },
     "execution_count": 16,
     "metadata": {},
     "output_type": "execute_result"
    }
   ],
   "source": [
    "df[df['Rating_category']].head(50)"
   ]
  },
  {
   "cell_type": "code",
   "execution_count": 17,
   "id": "7a6dad34",
   "metadata": {
    "ExecuteTime": {
     "end_time": "2023-11-30T06:46:25.406880Z",
     "start_time": "2023-11-30T06:46:25.388052Z"
    }
   },
   "outputs": [
    {
     "data": {
      "text/plain": [
       "count     10829\n",
       "unique        2\n",
       "top        True\n",
       "freq       9934\n",
       "Name: Rating_category, dtype: object"
      ]
     },
     "execution_count": 17,
     "metadata": {},
     "output_type": "execute_result"
    }
   ],
   "source": [
    "df['Rating_category'].describe()"
   ]
  },
  {
   "cell_type": "markdown",
   "id": "3b6d2a25",
   "metadata": {},
   "source": [
    "1. Here all the float value convert into True and False.\n",
    "2. The data type is still object.\n",
    "3. The top Rating Category is True. "
   ]
  },
  {
   "cell_type": "code",
   "execution_count": 18,
   "id": "8d2d8ead",
   "metadata": {
    "ExecuteTime": {
     "end_time": "2023-11-30T06:46:27.933853Z",
     "start_time": "2023-11-30T06:46:27.924944Z"
    }
   },
   "outputs": [
    {
     "data": {
      "text/plain": [
       "count    1.082900e+04\n",
       "mean     4.446018e+05\n",
       "std      2.929213e+06\n",
       "min      0.000000e+00\n",
       "25%      3.800000e+01\n",
       "50%      2.100000e+03\n",
       "75%      5.481500e+04\n",
       "max      7.815831e+07\n",
       "Name: Reviews, dtype: float64"
      ]
     },
     "execution_count": 18,
     "metadata": {},
     "output_type": "execute_result"
    }
   ],
   "source": [
    "df['Reviews'].describe()"
   ]
  },
  {
   "cell_type": "code",
   "execution_count": 19,
   "id": "77a6f4c7",
   "metadata": {
    "ExecuteTime": {
     "end_time": "2023-11-30T06:46:31.383061Z",
     "start_time": "2023-11-30T06:46:31.215330Z"
    }
   },
   "outputs": [
    {
     "data": {
      "text/plain": [
       "<Axes: xlabel='Reviews'>"
      ]
     },
     "execution_count": 19,
     "metadata": {},
     "output_type": "execute_result"
    },
    {
     "data": {
      "image/png": "[encoded data removed]",
      "text/plain": [
       "<Figure size 640x480 with 1 Axes>"
      ]
     },
     "metadata": {},
     "output_type": "display_data"
    }
   ],
   "source": [
    "sns.boxplot(df,x='Reviews')"
   ]
  },
  {
   "cell_type": "code",
   "execution_count": 20,
   "id": "a44db99b",
   "metadata": {
    "ExecuteTime": {
     "end_time": "2023-11-30T06:46:35.281365Z",
     "start_time": "2023-11-30T06:46:35.019010Z"
    }
   },
   "outputs": [
    {
     "name": "stdout",
     "output_type": "stream",
     "text": [
      "16.441352870562515\n"
     ]
    },
    {
     "data": {
      "image/png": "[encoded data removed]",
      "text/plain": [
       "<Figure size 640x480 with 1 Axes>"
      ]
     },
     "metadata": {},
     "output_type": "display_data"
    }
   ],
   "source": [
    "sns.kdeplot(df,x='Reviews')\n",
    "\n",
    "print(df['Reviews'].skew())"
   ]
  },
  {
   "cell_type": "code",
   "execution_count": 21,
   "id": "b808e572",
   "metadata": {
    "ExecuteTime": {
     "end_time": "2023-11-30T06:46:40.622592Z",
     "start_time": "2023-11-30T06:46:40.450392Z"
    }
   },
   "outputs": [
    {
     "name": "stdout",
     "output_type": "stream",
     "text": [
      "nan\n"
     ]
    },
    {
     "data": {
      "image/png": "[encoded data removed]",
      "text/plain": [
       "<Figure size 640x480 with 1 Axes>"
      ]
     },
     "metadata": {},
     "output_type": "display_data"
    }
   ],
   "source": [
    "sns.kdeplot(np.log(df['Reviews']))\n",
    "print(np.log(df['Reviews']).skew())"
   ]
  },
  {
   "cell_type": "markdown",
   "id": "d917f28e",
   "metadata": {},
   "source": [
    "### Converting all the Objects variable into sutiable datatype"
   ]
  },
  {
   "cell_type": "code",
   "execution_count": 22,
   "id": "32a27184",
   "metadata": {
    "ExecuteTime": {
     "end_time": "2023-11-30T06:46:43.692594Z",
     "start_time": "2023-11-30T06:46:43.660307Z"
    }
   },
   "outputs": [],
   "source": [
    "df[\"Size\"].replace(\"M\",\"000000\", regex=True, inplace = True)\n",
    "df[\"Size\"].replace(\"k\",\"000\", regex=True, inplace = True)"
   ]
  },
  {
   "cell_type": "code",
   "execution_count": 23,
   "id": "438808dd",
   "metadata": {
    "ExecuteTime": {
     "end_time": "2023-11-30T06:46:45.457021Z",
     "start_time": "2023-11-30T06:46:45.449712Z"
    }
   },
   "outputs": [
    {
     "data": {
      "text/plain": [
       "array(['19000000', '14000000', '8.7000000', '25000000', '2.8000000',\n",
       "       '5.6000000', '29000000', '33000000', '3.1000000', '28000000',\n",
       "       '12000000', '20000000', '21000000', '37000000', '5.5000000',\n",
       "       '17000000', '39000000', '31000000', '4.2000000', '7.0000000',\n",
       "       '23000000', '6.0000000', '6.1000000', '4.6000000', '9.2000000',\n",
       "       '5.2000000', '11000000', '24000000', 'Varies with device',\n",
       "       '9.4000000', '15000000', '10000000', '1.2000000', '26000000',\n",
       "       '8.0000000', '7.9000000', '56000000', '57000000', '35000000',\n",
       "       '54000000', '201000', '3.6000000', '5.7000000', '8.6000000',\n",
       "       '2.4000000', '27000000', '2.7000000', '2.5000000', '16000000',\n",
       "       '3.4000000', '8.9000000', '3.9000000', '2.9000000', '38000000',\n",
       "       '32000000', '5.4000000', '18000000', '1.1000000', '2.2000000',\n",
       "       '4.5000000', '9.8000000', '52000000', '9.0000000', '6.7000000',\n",
       "       '30000000', '2.6000000', '7.1000000', '3.7000000', '22000000',\n",
       "       '7.4000000', '6.4000000', '3.2000000', '8.2000000', '9.9000000',\n",
       "       '4.9000000', '9.5000000', '5.0000000', '5.9000000', '13000000',\n",
       "       '73000000', '6.8000000', '3.5000000', '4.0000000', '2.3000000',\n",
       "       '7.2000000', '2.1000000', '42000000', '7.3000000', '9.1000000',\n",
       "       '55000000', '23000', '6.5000000', '1.5000000', '7.5000000',\n",
       "       '51000000', '41000000', '48000000', '8.5000000', '46000000',\n",
       "       '8.3000000', '4.3000000', '4.7000000', '3.3000000', '40000000',\n",
       "       '7.8000000', '8.8000000', '6.6000000', '5.1000000', '61000000',\n",
       "       '66000000', '79000', '8.4000000', '118000', '44000000', '695000',\n",
       "       '1.6000000', '6.2000000', '18000', '53000000', '1.4000000',\n",
       "       '3.0000000', '5.8000000', '3.8000000', '9.6000000', '45000000',\n",
       "       '63000000', '49000000', '77000000', '4.4000000', '4.8000000',\n",
       "       '70000000', '6.9000000', '9.3000000', '10.0000000', '8.1000000',\n",
       "       '36000000', '84000000', '97000000', '2.0000000', '1.9000000',\n",
       "       '1.8000000', '5.3000000', '47000000', '556000', '526000',\n",
       "       '76000000', '7.6000000', '59000000', '9.7000000', '78000000',\n",
       "       '72000000', '43000000', '7.7000000', '6.3000000', '334000',\n",
       "       '34000000', '93000000', '65000000', '79000000', '100000000',\n",
       "       '58000000', '50000000', '68000000', '64000000', '67000000',\n",
       "       '60000000', '94000000', '232000', '99000000', '624000', '95000000',\n",
       "       '8.5000', '41000', '292000', '80000000', '1.7000000', '74000000',\n",
       "       '62000000', '69000000', '75000000', '98000000', '85000000',\n",
       "       '82000000', '96000000', '87000000', '71000000', '86000000',\n",
       "       '91000000', '81000000', '92000000', '83000000', '88000000',\n",
       "       '704000', '862000', '899000', '378000', '266000', '375000',\n",
       "       '1.3000000', '975000', '980000', '4.1000000', '89000000', '696000',\n",
       "       '544000', '525000', '920000', '779000', '853000', '720000',\n",
       "       '713000', '772000', '318000', '58000', '241000', '196000',\n",
       "       '857000', '51000', '953000', '865000', '251000', '930000',\n",
       "       '540000', '313000', '746000', '203000', '26000', '314000',\n",
       "       '239000', '371000', '220000', '730000', '756000', '91000',\n",
       "       '293000', '17000', '74000', '14000', '317000', '78000', '924000',\n",
       "       '902000', '818000', '81000', '939000', '169000', '45000', '475000',\n",
       "       '965000', '90000000', '545000', '61000', '283000', '655000',\n",
       "       '714000', '93000', '872000', '121000', '322000', '1.0000000',\n",
       "       '976000', '172000', '238000', '549000', '206000', '954000',\n",
       "       '444000', '717000', '210000', '609000', '308000', '705000',\n",
       "       '306000', '904000', '473000', '175000', '350000', '383000',\n",
       "       '454000', '421000', '70000', '812000', '442000', '842000',\n",
       "       '417000', '412000', '459000', '478000', '335000', '782000',\n",
       "       '721000', '430000', '429000', '192000', '200000', '460000',\n",
       "       '728000', '496000', '816000', '414000', '506000', '887000',\n",
       "       '613000', '243000', '569000', '778000', '683000', '592000',\n",
       "       '319000', '186000', '840000', '647000', '191000', '373000',\n",
       "       '437000', '598000', '716000', '585000', '982000', '219000',\n",
       "       '55000', '948000', '323000', '691000', '511000', '951000',\n",
       "       '963000', '25000', '554000', '351000', '27000', '82000', '208000',\n",
       "       '913000', '514000', '551000', '29000', '103000', '898000',\n",
       "       '743000', '116000', '153000', '209000', '353000', '499000',\n",
       "       '173000', '597000', '809000', '122000', '411000', '400000',\n",
       "       '801000', '787000', '50000', '643000', '986000', '97000', '516000',\n",
       "       '837000', '780000', '961000', '269000', '20000', '498000',\n",
       "       '600000', '749000', '642000', '881000', '72000', '656000',\n",
       "       '601000', '221000', '228000', '108000', '940000', '176000',\n",
       "       '33000', '663000', '34000', '942000', '259000', '164000', '458000',\n",
       "       '245000', '629000', '28000', '288000', '775000', '785000',\n",
       "       '636000', '916000', '994000', '309000', '485000', '914000',\n",
       "       '903000', '608000', '500000', '54000', '562000', '847000',\n",
       "       '957000', '688000', '811000', '270000', '48000', '329000',\n",
       "       '523000', '921000', '874000', '981000', '784000', '280000',\n",
       "       '24000', '518000', '754000', '892000', '154000', '860000',\n",
       "       '364000', '387000', '626000', '161000', '879000', '39000',\n",
       "       '970000', '170000', '141000', '160000', '144000', '143000',\n",
       "       '190000', '376000', '193000', '246000', '73000', '992000',\n",
       "       '253000', '420000', '404000', '470000', '226000', '240000',\n",
       "       '89000', '234000', '257000', '861000', '467000', '157000', '44000',\n",
       "       '676000', '67000', '552000', '885000', '1020000', '582000',\n",
       "       '619000'], dtype=object)"
      ]
     },
     "execution_count": 23,
     "metadata": {},
     "output_type": "execute_result"
    }
   ],
   "source": [
    "df['Size'].unique()"
   ]
  },
  {
   "cell_type": "code",
   "execution_count": 24,
   "id": "4ca77a93",
   "metadata": {
    "ExecuteTime": {
     "end_time": "2023-11-30T06:46:49.470555Z",
     "start_time": "2023-11-30T06:46:49.463922Z"
    }
   },
   "outputs": [],
   "source": [
    "df['Size']=df['Size'].replace(\"Varies with device\",np.nan)"
   ]
  },
  {
   "cell_type": "code",
   "execution_count": 25,
   "id": "eee724be",
   "metadata": {
    "ExecuteTime": {
     "end_time": "2023-11-30T06:46:51.278427Z",
     "start_time": "2023-11-30T06:46:51.254622Z"
    }
   },
   "outputs": [],
   "source": [
    "df.Size = pd.to_numeric(df.Size)"
   ]
  },
  {
   "cell_type": "code",
   "execution_count": 26,
   "id": "1e4c2e48",
   "metadata": {
    "ExecuteTime": {
     "end_time": "2023-11-30T06:46:53.226814Z",
     "start_time": "2023-11-30T06:46:53.215490Z"
    }
   },
   "outputs": [
    {
     "name": "stdout",
     "output_type": "stream",
     "text": [
      "<class 'pandas.core.frame.DataFrame'>\n",
      "Index: 10829 entries, 0 to 10840\n",
      "Data columns (total 14 columns):\n",
      " #   Column           Non-Null Count  Dtype  \n",
      "---  ------           --------------  -----  \n",
      " 0   App              10829 non-null  object \n",
      " 1   Category         10829 non-null  object \n",
      " 2   Rating           10829 non-null  float64\n",
      " 3   Reviews          10829 non-null  int64  \n",
      " 4   Size             9135 non-null   float64\n",
      " 5   Installs         10829 non-null  object \n",
      " 6   Type             10829 non-null  object \n",
      " 7   Price            10829 non-null  object \n",
      " 8   Content Rating   10829 non-null  object \n",
      " 9   Genres           10829 non-null  object \n",
      " 10  Last Updated     10829 non-null  object \n",
      " 11  Current Ver      10829 non-null  object \n",
      " 12  Android Ver      10829 non-null  object \n",
      " 13  Rating_category  10829 non-null  bool   \n",
      "dtypes: bool(1), float64(2), int64(1), object(10)\n",
      "memory usage: 1.2+ MB\n"
     ]
    }
   ],
   "source": [
    "df.info()"
   ]
  },
  {
   "cell_type": "code",
   "execution_count": 27,
   "id": "6b244756",
   "metadata": {
    "ExecuteTime": {
     "end_time": "2023-11-30T06:46:56.388570Z",
     "start_time": "2023-11-30T06:46:55.589325Z"
    }
   },
   "outputs": [
    {
     "data": {
      "text/plain": [
       "App                0\n",
       "Category           0\n",
       "Rating             0\n",
       "Reviews            0\n",
       "Size               0\n",
       "Installs           0\n",
       "Type               0\n",
       "Price              0\n",
       "Content Rating     0\n",
       "Genres             0\n",
       "Last Updated       0\n",
       "Current Ver        0\n",
       "Android Ver        0\n",
       "Rating_category    0\n",
       "dtype: int64"
      ]
     },
     "execution_count": 27,
     "metadata": {},
     "output_type": "execute_result"
    }
   ],
   "source": [
    "from sklearn.impute import KNNImputer\n",
    "impute = KNNImputer()\n",
    "df['Size'] = impute.fit_transform(df[['Size']])\n",
    "df.isnull().sum()"
   ]
  },
  {
   "cell_type": "code",
   "execution_count": 28,
   "id": "30d2a2e8",
   "metadata": {
    "ExecuteTime": {
     "end_time": "2023-11-30T06:46:59.070442Z",
     "start_time": "2023-11-30T06:46:59.062553Z"
    }
   },
   "outputs": [
    {
     "data": {
      "text/plain": [
       "array(['10,000+', '500,000+', '5,000,000+', '50,000,000+', '100,000+',\n",
       "       '50,000+', '1,000,000+', '10,000,000+', '5,000+', '100,000,000+',\n",
       "       '1,000,000,000+', '1,000+', '500,000,000+', '50+', '100+', '500+',\n",
       "       '10+', '1+', '5+', '0+'], dtype=object)"
      ]
     },
     "execution_count": 28,
     "metadata": {},
     "output_type": "execute_result"
    }
   ],
   "source": [
    "df['Installs'].unique()"
   ]
  },
  {
   "cell_type": "code",
   "execution_count": 29,
   "id": "0a08c4c3",
   "metadata": {
    "ExecuteTime": {
     "end_time": "2023-11-30T06:47:00.905609Z",
     "start_time": "2023-11-30T06:47:00.877229Z"
    }
   },
   "outputs": [],
   "source": [
    "df.Installs = df.Installs.apply(lambda x:x.replace(\"+\",\"\"))\n",
    "df.Installs = df.Installs.apply(lambda x:x.replace(\",\",\"\"))\n",
    "df.Installs = df.Installs.apply(lambda x:int(x))"
   ]
  },
  {
   "cell_type": "code",
   "execution_count": 30,
   "id": "9e5ee8d0",
   "metadata": {
    "ExecuteTime": {
     "end_time": "2023-11-30T06:47:03.350175Z",
     "start_time": "2023-11-30T06:47:03.344834Z"
    }
   },
   "outputs": [
    {
     "data": {
      "text/plain": [
       "array([     10000,     500000,    5000000,   50000000,     100000,\n",
       "            50000,    1000000,   10000000,       5000,  100000000,\n",
       "       1000000000,       1000,  500000000,         50,        100,\n",
       "              500,         10,          1,          5,          0],\n",
       "      dtype=int64)"
      ]
     },
     "execution_count": 30,
     "metadata": {},
     "output_type": "execute_result"
    }
   ],
   "source": [
    "df['Installs'].unique()"
   ]
  },
  {
   "cell_type": "code",
   "execution_count": 31,
   "id": "5a1020f5",
   "metadata": {
    "ExecuteTime": {
     "end_time": "2023-11-30T06:47:05.669619Z",
     "start_time": "2023-11-30T06:47:05.661536Z"
    }
   },
   "outputs": [
    {
     "data": {
      "text/plain": [
       "array(['0', '$4.99', '$3.99', '$6.99', '$1.49', '$2.99', '$7.99', '$5.99',\n",
       "       '$3.49', '$1.99', '$9.99', '$7.49', '$0.99', '$9.00', '$5.49',\n",
       "       '$10.00', '$24.99', '$11.99', '$79.99', '$16.99', '$14.99',\n",
       "       '$1.00', '$29.99', '$12.99', '$2.49', '$10.99', '$1.50', '$19.99',\n",
       "       '$15.99', '$33.99', '$74.99', '$39.99', '$3.95', '$4.49', '$1.70',\n",
       "       '$8.99', '$2.00', '$3.88', '$25.99', '$399.99', '$17.99',\n",
       "       '$400.00', '$3.02', '$1.76', '$4.84', '$4.77', '$1.61', '$2.50',\n",
       "       '$1.59', '$6.49', '$1.29', '$5.00', '$13.99', '$299.99', '$379.99',\n",
       "       '$37.99', '$18.99', '$389.99', '$19.90', '$8.49', '$1.75',\n",
       "       '$14.00', '$4.85', '$46.99', '$109.99', '$154.99', '$3.08',\n",
       "       '$2.59', '$4.80', '$1.96', '$19.40', '$3.90', '$4.59', '$15.46',\n",
       "       '$3.04', '$4.29', '$2.60', '$3.28', '$4.60', '$28.99', '$2.95',\n",
       "       '$2.90', '$1.97', '$200.00', '$89.99', '$2.56', '$30.99', '$3.61',\n",
       "       '$394.99', '$1.26', '$1.20', '$1.04'], dtype=object)"
      ]
     },
     "execution_count": 31,
     "metadata": {},
     "output_type": "execute_result"
    }
   ],
   "source": [
    "df['Price'].unique()"
   ]
  },
  {
   "cell_type": "code",
   "execution_count": 32,
   "id": "9f047699",
   "metadata": {
    "ExecuteTime": {
     "end_time": "2023-11-30T06:47:08.182517Z",
     "start_time": "2023-11-30T06:47:08.173459Z"
    }
   },
   "outputs": [],
   "source": [
    "df.Price = df.Price.apply(lambda x:x.replace(\"$\",\"\"))\n",
    "df.Price = df.Price.apply(lambda x:float(x))"
   ]
  },
  {
   "cell_type": "code",
   "execution_count": 33,
   "id": "fd78afc8",
   "metadata": {
    "ExecuteTime": {
     "end_time": "2023-11-30T06:47:09.979551Z",
     "start_time": "2023-11-30T06:47:09.968641Z"
    }
   },
   "outputs": [
    {
     "data": {
      "text/plain": [
       "array([  0.  ,   4.99,   3.99,   6.99,   1.49,   2.99,   7.99,   5.99,\n",
       "         3.49,   1.99,   9.99,   7.49,   0.99,   9.  ,   5.49,  10.  ,\n",
       "        24.99,  11.99,  79.99,  16.99,  14.99,   1.  ,  29.99,  12.99,\n",
       "         2.49,  10.99,   1.5 ,  19.99,  15.99,  33.99,  74.99,  39.99,\n",
       "         3.95,   4.49,   1.7 ,   8.99,   2.  ,   3.88,  25.99, 399.99,\n",
       "        17.99, 400.  ,   3.02,   1.76,   4.84,   4.77,   1.61,   2.5 ,\n",
       "         1.59,   6.49,   1.29,   5.  ,  13.99, 299.99, 379.99,  37.99,\n",
       "        18.99, 389.99,  19.9 ,   8.49,   1.75,  14.  ,   4.85,  46.99,\n",
       "       109.99, 154.99,   3.08,   2.59,   4.8 ,   1.96,  19.4 ,   3.9 ,\n",
       "         4.59,  15.46,   3.04,   4.29,   2.6 ,   3.28,   4.6 ,  28.99,\n",
       "         2.95,   2.9 ,   1.97, 200.  ,  89.99,   2.56,  30.99,   3.61,\n",
       "       394.99,   1.26,   1.2 ,   1.04])"
      ]
     },
     "execution_count": 33,
     "metadata": {},
     "output_type": "execute_result"
    }
   ],
   "source": [
    "df['Price'].unique()"
   ]
  },
  {
   "cell_type": "code",
   "execution_count": 34,
   "id": "2a88b09c",
   "metadata": {
    "ExecuteTime": {
     "end_time": "2023-11-30T06:47:12.592695Z",
     "start_time": "2023-11-30T06:47:12.575154Z"
    }
   },
   "outputs": [],
   "source": [
    "df.drop(columns='Rating',axis=1,inplace=True)"
   ]
  },
  {
   "cell_type": "code",
   "execution_count": 35,
   "id": "86d69344",
   "metadata": {
    "ExecuteTime": {
     "end_time": "2023-11-30T06:47:14.514666Z",
     "start_time": "2023-11-30T06:47:14.500277Z"
    }
   },
   "outputs": [
    {
     "data": {
      "text/html": [
       "<div>\n",
       "<style scoped>\n",
       "    .dataframe tbody tr th:only-of-type {\n",
       "        vertical-align: middle;\n",
       "    }\n",
       "\n",
       "    .dataframe tbody tr th {\n",
       "        vertical-align: top;\n",
       "    }\n",
       "\n",
       "    .dataframe thead th {\n",
       "        text-align: right;\n",
       "    }\n",
       "</style>\n",
       "<table border=\"1\" class=\"dataframe\">\n",
       "  <thead>\n",
       "    <tr style=\"text-align: right;\">\n",
       "      <th></th>\n",
       "      <th>App</th>\n",
       "      <th>Category</th>\n",
       "      <th>Reviews</th>\n",
       "      <th>Size</th>\n",
       "      <th>Installs</th>\n",
       "      <th>Type</th>\n",
       "      <th>Price</th>\n",
       "      <th>Content Rating</th>\n",
       "      <th>Genres</th>\n",
       "      <th>Last Updated</th>\n",
       "      <th>Current Ver</th>\n",
       "      <th>Android Ver</th>\n",
       "      <th>Rating_category</th>\n",
       "    </tr>\n",
       "  </thead>\n",
       "  <tbody>\n",
       "    <tr>\n",
       "      <th>0</th>\n",
       "      <td>Photo Editor &amp; Candy Camera &amp; Grid &amp; ScrapBook</td>\n",
       "      <td>ART_AND_DESIGN</td>\n",
       "      <td>159</td>\n",
       "      <td>19000000.0</td>\n",
       "      <td>10000</td>\n",
       "      <td>Free</td>\n",
       "      <td>0.0</td>\n",
       "      <td>Everyone</td>\n",
       "      <td>Art &amp; Design</td>\n",
       "      <td>January 7, 2018</td>\n",
       "      <td>1.0.0</td>\n",
       "      <td>4.0.3 and up</td>\n",
       "      <td>True</td>\n",
       "    </tr>\n",
       "    <tr>\n",
       "      <th>1</th>\n",
       "      <td>Coloring book moana</td>\n",
       "      <td>ART_AND_DESIGN</td>\n",
       "      <td>967</td>\n",
       "      <td>14000000.0</td>\n",
       "      <td>500000</td>\n",
       "      <td>Free</td>\n",
       "      <td>0.0</td>\n",
       "      <td>Everyone</td>\n",
       "      <td>Art &amp; Design;Pretend Play</td>\n",
       "      <td>January 15, 2018</td>\n",
       "      <td>2.0.0</td>\n",
       "      <td>4.0.3 and up</td>\n",
       "      <td>True</td>\n",
       "    </tr>\n",
       "    <tr>\n",
       "      <th>2</th>\n",
       "      <td>U Launcher Lite – FREE Live Cool Themes, Hide ...</td>\n",
       "      <td>ART_AND_DESIGN</td>\n",
       "      <td>87510</td>\n",
       "      <td>8.7</td>\n",
       "      <td>5000000</td>\n",
       "      <td>Free</td>\n",
       "      <td>0.0</td>\n",
       "      <td>Everyone</td>\n",
       "      <td>Art &amp; Design</td>\n",
       "      <td>August 1, 2018</td>\n",
       "      <td>1.2.4</td>\n",
       "      <td>4.0.3 and up</td>\n",
       "      <td>True</td>\n",
       "    </tr>\n",
       "    <tr>\n",
       "      <th>3</th>\n",
       "      <td>Sketch - Draw &amp; Paint</td>\n",
       "      <td>ART_AND_DESIGN</td>\n",
       "      <td>215644</td>\n",
       "      <td>25000000.0</td>\n",
       "      <td>50000000</td>\n",
       "      <td>Free</td>\n",
       "      <td>0.0</td>\n",
       "      <td>Teen</td>\n",
       "      <td>Art &amp; Design</td>\n",
       "      <td>June 8, 2018</td>\n",
       "      <td>Varies with device</td>\n",
       "      <td>4.2 and up</td>\n",
       "      <td>True</td>\n",
       "    </tr>\n",
       "    <tr>\n",
       "      <th>4</th>\n",
       "      <td>Pixel Draw - Number Art Coloring Book</td>\n",
       "      <td>ART_AND_DESIGN</td>\n",
       "      <td>967</td>\n",
       "      <td>2.8</td>\n",
       "      <td>100000</td>\n",
       "      <td>Free</td>\n",
       "      <td>0.0</td>\n",
       "      <td>Everyone</td>\n",
       "      <td>Art &amp; Design;Creativity</td>\n",
       "      <td>June 20, 2018</td>\n",
       "      <td>1.1</td>\n",
       "      <td>4.4 and up</td>\n",
       "      <td>True</td>\n",
       "    </tr>\n",
       "  </tbody>\n",
       "</table>\n",
       "</div>"
      ],
      "text/plain": [
       "                                                 App        Category  Reviews  \\\n",
       "0     Photo Editor & Candy Camera & Grid & ScrapBook  ART_AND_DESIGN      159   \n",
       "1                                Coloring book moana  ART_AND_DESIGN      967   \n",
       "2  U Launcher Lite – FREE Live Cool Themes, Hide ...  ART_AND_DESIGN    87510   \n",
       "3                              Sketch - Draw & Paint  ART_AND_DESIGN   215644   \n",
       "4              Pixel Draw - Number Art Coloring Book  ART_AND_DESIGN      967   \n",
       "\n",
       "         Size  Installs  Type  Price Content Rating  \\\n",
       "0  19000000.0     10000  Free    0.0       Everyone   \n",
       "1  14000000.0    500000  Free    0.0       Everyone   \n",
       "2         8.7   5000000  Free    0.0       Everyone   \n",
       "3  25000000.0  50000000  Free    0.0           Teen   \n",
       "4         2.8    100000  Free    0.0       Everyone   \n",
       "\n",
       "                      Genres      Last Updated         Current Ver  \\\n",
       "0               Art & Design   January 7, 2018               1.0.0   \n",
       "1  Art & Design;Pretend Play  January 15, 2018               2.0.0   \n",
       "2               Art & Design    August 1, 2018               1.2.4   \n",
       "3               Art & Design      June 8, 2018  Varies with device   \n",
       "4    Art & Design;Creativity     June 20, 2018                 1.1   \n",
       "\n",
       "    Android Ver  Rating_category  \n",
       "0  4.0.3 and up             True  \n",
       "1  4.0.3 and up             True  \n",
       "2  4.0.3 and up             True  \n",
       "3    4.2 and up             True  \n",
       "4    4.4 and up             True  "
      ]
     },
     "execution_count": 35,
     "metadata": {},
     "output_type": "execute_result"
    }
   ],
   "source": [
    "df.head()"
   ]
  },
  {
   "cell_type": "code",
   "execution_count": 36,
   "id": "936e0a57",
   "metadata": {
    "ExecuteTime": {
     "end_time": "2023-11-30T06:47:17.033127Z",
     "start_time": "2023-11-30T06:47:17.028284Z"
    }
   },
   "outputs": [
    {
     "data": {
      "text/plain": [
       "Index(['App', 'Category', 'Reviews', 'Size', 'Installs', 'Type', 'Price',\n",
       "       'Content Rating', 'Genres', 'Last Updated', 'Current Ver',\n",
       "       'Android Ver', 'Rating_category'],\n",
       "      dtype='object')"
      ]
     },
     "execution_count": 36,
     "metadata": {},
     "output_type": "execute_result"
    }
   ],
   "source": [
    "df.columns"
   ]
  },
  {
   "cell_type": "code",
   "execution_count": 37,
   "id": "f60905e8",
   "metadata": {
    "ExecuteTime": {
     "end_time": "2023-11-30T06:47:19.341847Z",
     "start_time": "2023-11-30T06:47:19.337435Z"
    }
   },
   "outputs": [],
   "source": [
    "df.drop(columns=['App','Last Updated','Current Ver','Genres','Android Ver','Category'],axis=1,inplace=True)"
   ]
  },
  {
   "cell_type": "code",
   "execution_count": 38,
   "id": "361708cf",
   "metadata": {
    "ExecuteTime": {
     "end_time": "2023-11-30T06:47:21.092267Z",
     "start_time": "2023-11-30T06:47:21.087191Z"
    }
   },
   "outputs": [
    {
     "data": {
      "text/plain": [
       "Index(['Reviews', 'Size', 'Installs', 'Type', 'Price', 'Content Rating',\n",
       "       'Rating_category'],\n",
       "      dtype='object')"
      ]
     },
     "execution_count": 38,
     "metadata": {},
     "output_type": "execute_result"
    }
   ],
   "source": [
    "df.columns"
   ]
  },
  {
   "cell_type": "code",
   "execution_count": 39,
   "id": "124b5f9c",
   "metadata": {
    "ExecuteTime": {
     "end_time": "2023-11-30T06:47:22.980401Z",
     "start_time": "2023-11-30T06:47:22.971628Z"
    }
   },
   "outputs": [],
   "source": [
    "df['Rating_category'].replace(['True','False'],[True,False],inplace=True)"
   ]
  },
  {
   "cell_type": "code",
   "execution_count": 40,
   "id": "9bb7bd9e",
   "metadata": {
    "ExecuteTime": {
     "end_time": "2023-11-30T06:47:24.284958Z",
     "start_time": "2023-11-30T06:47:24.268398Z"
    }
   },
   "outputs": [],
   "source": [
    "df['Type'].replace(['Free','Paid'],[True,False],inplace=True)"
   ]
  },
  {
   "cell_type": "code",
   "execution_count": 42,
   "id": "7c80342d",
   "metadata": {
    "ExecuteTime": {
     "end_time": "2023-11-30T06:47:28.580504Z",
     "start_time": "2023-11-30T06:47:28.572023Z"
    }
   },
   "outputs": [],
   "source": [
    "df['Content Rating'] = df['Content Rating'].apply(lambda x:x.replace(\"+\",\"\"))\n",
    "df['Content Rating'] = df['Content Rating'].apply(lambda x:x.replace(\",\",\"\"))"
   ]
  },
  {
   "cell_type": "code",
   "execution_count": 43,
   "id": "03561580",
   "metadata": {
    "ExecuteTime": {
     "end_time": "2023-11-30T06:47:30.209515Z",
     "start_time": "2023-11-30T06:47:30.203819Z"
    }
   },
   "outputs": [
    {
     "data": {
      "text/plain": [
       "array(['Everyone', 'Teen', 'Everyone 10', 'Mature 17', 'Adults only 18',\n",
       "       'Unrated'], dtype=object)"
      ]
     },
     "execution_count": 43,
     "metadata": {},
     "output_type": "execute_result"
    }
   ],
   "source": [
    "df['Content Rating'].unique()"
   ]
  },
  {
   "cell_type": "code",
   "execution_count": 44,
   "id": "7c915d99",
   "metadata": {
    "ExecuteTime": {
     "end_time": "2023-11-30T06:47:32.206132Z",
     "start_time": "2023-11-30T06:47:32.194561Z"
    }
   },
   "outputs": [
    {
     "name": "stdout",
     "output_type": "stream",
     "text": [
      "<class 'pandas.core.frame.DataFrame'>\n",
      "Index: 10829 entries, 0 to 10840\n",
      "Data columns (total 11 columns):\n",
      " #   Column                      Non-Null Count  Dtype  \n",
      "---  ------                      --------------  -----  \n",
      " 0   Reviews                     10829 non-null  int64  \n",
      " 1   Size                        10829 non-null  float64\n",
      " 2   Installs                    10829 non-null  int64  \n",
      " 3   Type                        10829 non-null  bool   \n",
      " 4   Price                       10829 non-null  float64\n",
      " 5   Rating_category             10829 non-null  bool   \n",
      " 6   Content Rating_Everyone     10829 non-null  bool   \n",
      " 7   Content Rating_Everyone 10  10829 non-null  bool   \n",
      " 8   Content Rating_Mature 17    10829 non-null  bool   \n",
      " 9   Content Rating_Teen         10829 non-null  bool   \n",
      " 10  Content Rating_Unrated      10829 non-null  bool   \n",
      "dtypes: bool(7), float64(2), int64(2)\n",
      "memory usage: 497.0 KB\n"
     ]
    }
   ],
   "source": [
    "dummies = pd.get_dummies(df, drop_first=True)\n",
    "dummies.info()"
   ]
  },
  {
   "cell_type": "code",
   "execution_count": 45,
   "id": "a5d70949",
   "metadata": {
    "ExecuteTime": {
     "end_time": "2023-11-30T06:47:53.957015Z",
     "start_time": "2023-11-30T06:47:53.952038Z"
    }
   },
   "outputs": [],
   "source": [
    "X = dummies.drop('Rating_category', axis=1)\n",
    "y = dummies['Rating_category']"
   ]
  },
  {
   "cell_type": "markdown",
   "id": "4118af72",
   "metadata": {},
   "source": [
    "### Spliting the dataset into Train and Test "
   ]
  },
  {
   "cell_type": "code",
   "execution_count": 46,
   "id": "1265a1d5",
   "metadata": {
    "ExecuteTime": {
     "end_time": "2023-11-30T06:47:55.723028Z",
     "start_time": "2023-11-30T06:47:55.700840Z"
    }
   },
   "outputs": [],
   "source": [
    "from sklearn.model_selection import train_test_split\n",
    "\n",
    "X_train, X_test, y_train, y_test = train_test_split(X, y, test_size = 0.3, random_state=42, stratify=y)"
   ]
  },
  {
   "cell_type": "code",
   "execution_count": 47,
   "id": "2a4e1aba",
   "metadata": {
    "ExecuteTime": {
     "end_time": "2023-11-30T06:48:00.521946Z",
     "start_time": "2023-11-30T06:47:57.630733Z"
    }
   },
   "outputs": [
    {
     "data": {
      "text/html": [
       "<style>#sk-container-id-1 {color: black;}#sk-container-id-1 pre{padding: 0;}#sk-container-id-1 div.sk-toggleable {background-color: white;}#sk-container-id-1 label.sk-toggleable__label {cursor: pointer;display: block;width: 100%;margin-bottom: 0;padding: 0.3em;box-sizing: border-box;text-align: center;}#sk-container-id-1 label.sk-toggleable__label-arrow:before {content: \"▸\";float: left;margin-right: 0.25em;color: #696969;}#sk-container-id-1 label.sk-toggleable__label-arrow:hover:before {color: black;}#sk-container-id-1 div.sk-estimator:hover label.sk-toggleable__label-arrow:before {color: black;}#sk-container-id-1 div.sk-toggleable__content {max-height: 0;max-width: 0;overflow: hidden;text-align: left;background-color: #f0f8ff;}#sk-container-id-1 div.sk-toggleable__content pre {margin: 0.2em;color: black;border-radius: 0.25em;background-color: #f0f8ff;}#sk-container-id-1 input.sk-toggleable__control:checked~div.sk-toggleable__content {max-height: 200px;max-width: 100%;overflow: auto;}#sk-container-id-1 input.sk-toggleable__control:checked~label.sk-toggleable__label-arrow:before {content: \"▾\";}#sk-container-id-1 div.sk-estimator input.sk-toggleable__control:checked~label.sk-toggleable__label {background-color: #d4ebff;}#sk-container-id-1 div.sk-label input.sk-toggleable__control:checked~label.sk-toggleable__label {background-color: #d4ebff;}#sk-container-id-1 input.sk-hidden--visually {border: 0;clip: rect(1px 1px 1px 1px);clip: rect(1px, 1px, 1px, 1px);height: 1px;margin: -1px;overflow: hidden;padding: 0;position: absolute;width: 1px;}#sk-container-id-1 div.sk-estimator {font-family: monospace;background-color: #f0f8ff;border: 1px dotted black;border-radius: 0.25em;box-sizing: border-box;margin-bottom: 0.5em;}#sk-container-id-1 div.sk-estimator:hover {background-color: #d4ebff;}#sk-container-id-1 div.sk-parallel-item::after {content: \"\";width: 100%;border-bottom: 1px solid gray;flex-grow: 1;}#sk-container-id-1 div.sk-label:hover label.sk-toggleable__label {background-color: #d4ebff;}#sk-container-id-1 div.sk-serial::before {content: \"\";position: absolute;border-left: 1px solid gray;box-sizing: border-box;top: 0;bottom: 0;left: 50%;z-index: 0;}#sk-container-id-1 div.sk-serial {display: flex;flex-direction: column;align-items: center;background-color: white;padding-right: 0.2em;padding-left: 0.2em;position: relative;}#sk-container-id-1 div.sk-item {position: relative;z-index: 1;}#sk-container-id-1 div.sk-parallel {display: flex;align-items: stretch;justify-content: center;background-color: white;position: relative;}#sk-container-id-1 div.sk-item::before, #sk-container-id-1 div.sk-parallel-item::before {content: \"\";position: absolute;border-left: 1px solid gray;box-sizing: border-box;top: 0;bottom: 0;left: 50%;z-index: -1;}#sk-container-id-1 div.sk-parallel-item {display: flex;flex-direction: column;z-index: 1;position: relative;background-color: white;}#sk-container-id-1 div.sk-parallel-item:first-child::after {align-self: flex-end;width: 50%;}#sk-container-id-1 div.sk-parallel-item:last-child::after {align-self: flex-start;width: 50%;}#sk-container-id-1 div.sk-parallel-item:only-child::after {width: 0;}#sk-container-id-1 div.sk-dashed-wrapped {border: 1px dashed gray;margin: 0 0.4em 0.5em 0.4em;box-sizing: border-box;padding-bottom: 0.4em;background-color: white;}#sk-container-id-1 div.sk-label label {font-family: monospace;font-weight: bold;display: inline-block;line-height: 1.2em;}#sk-container-id-1 div.sk-label-container {text-align: center;}#sk-container-id-1 div.sk-container {/* jupyter's `normalize.less` sets `[hidden] { display: none; }` but bootstrap.min.css set `[hidden] { display: none !important; }` so we also need the `!important` here to be able to override the default hidden behavior on the sphinx rendered scikit-learn.org. See: https://github.com/scikit-learn/scikit-learn/issues/21755 */display: inline-block !important;position: relative;}#sk-container-id-1 div.sk-text-repr-fallback {display: none;}</style><div id=\"sk-container-id-1\" class=\"sk-top-container\"><div class=\"sk-text-repr-fallback\"><pre>LogisticRegression(class_weight={0: 0.09, 1: 0.91}, n_jobs=-1,\n",
       "                   solver=&#x27;newton-cg&#x27;)</pre><b>In a Jupyter environment, please rerun this cell to show the HTML representation or trust the notebook. <br />On GitHub, the HTML representation is unable to render, please try loading this page with nbviewer.org.</b></div><div class=\"sk-container\" hidden><div class=\"sk-item\"><div class=\"sk-estimator sk-toggleable\"><input class=\"sk-toggleable__control sk-hidden--visually\" id=\"sk-estimator-id-1\" type=\"checkbox\" checked><label for=\"sk-estimator-id-1\" class=\"sk-toggleable__label sk-toggleable__label-arrow\">LogisticRegression</label><div class=\"sk-toggleable__content\"><pre>LogisticRegression(class_weight={0: 0.09, 1: 0.91}, n_jobs=-1,\n",
       "                   solver=&#x27;newton-cg&#x27;)</pre></div></div></div></div></div>"
      ],
      "text/plain": [
       "LogisticRegression(class_weight={0: 0.09, 1: 0.91}, n_jobs=-1,\n",
       "                   solver='newton-cg')"
      ]
     },
     "execution_count": 47,
     "metadata": {},
     "output_type": "execute_result"
    }
   ],
   "source": [
    "from sklearn.linear_model import LogisticRegression\n",
    "\n",
    "from sklearn.metrics import classification_report\n",
    "\n",
    "import statsmodels.api as sm\n",
    "logit = LogisticRegression(solver = 'newton-cg', n_jobs=-1, class_weight={0:0.09, 1:0.91})\n",
    "logit.fit(X_train, y_train)"
   ]
  },
  {
   "cell_type": "code",
   "execution_count": 48,
   "id": "cf2cfff1",
   "metadata": {
    "ExecuteTime": {
     "end_time": "2023-11-30T06:48:03.722994Z",
     "start_time": "2023-11-30T06:48:03.714713Z"
    }
   },
   "outputs": [],
   "source": [
    "pred_train = logit.predict(X_train)\n",
    "pred_test = logit.predict(X_test)"
   ]
  },
  {
   "cell_type": "code",
   "execution_count": 49,
   "id": "299534ed",
   "metadata": {
    "ExecuteTime": {
     "end_time": "2023-11-29T08:27:30.517446Z",
     "start_time": "2023-11-29T08:27:30.444235Z"
    }
   },
   "outputs": [
    {
     "name": "stdout",
     "output_type": "stream",
     "text": [
      "              precision    recall  f1-score   support\n",
      "\n",
      "       False       0.00      0.00      0.00       626\n",
      "        True       0.92      1.00      0.96      6954\n",
      "\n",
      "    accuracy                           0.92      7580\n",
      "   macro avg       0.46      0.50      0.48      7580\n",
      "weighted avg       0.84      0.92      0.88      7580\n",
      "\n",
      "              precision    recall  f1-score   support\n",
      "\n",
      "       False       0.00      0.00      0.00       269\n",
      "        True       0.92      1.00      0.96      2980\n",
      "\n",
      "    accuracy                           0.92      3249\n",
      "   macro avg       0.46      0.50      0.48      3249\n",
      "weighted avg       0.84      0.92      0.88      3249\n",
      "\n"
     ]
    }
   ],
   "source": [
    "print(classification_report(y_train, pred_train)); print(classification_report(y_test, pred_test))"
   ]
  },
  {
   "cell_type": "code",
   "execution_count": 49,
   "id": "1daa7406",
   "metadata": {
    "ExecuteTime": {
     "end_time": "2023-11-30T06:48:07.189234Z",
     "start_time": "2023-11-30T06:48:07.172724Z"
    }
   },
   "outputs": [],
   "source": [
    "X_c = sm.add_constant(X)\n",
    "\n",
    "X_train_c, X_test_c, y_train, y_test = train_test_split(X_c, y, test_size = 0.3, random_state=42, stratify=y)"
   ]
  },
  {
   "cell_type": "code",
   "execution_count": 54,
   "id": "14f236d1",
   "metadata": {
    "ExecuteTime": {
     "end_time": "2023-11-30T06:49:22.765910Z",
     "start_time": "2023-11-30T06:49:22.715122Z"
    }
   },
   "outputs": [
    {
     "name": "stdout",
     "output_type": "stream",
     "text": [
      "Optimization terminated successfully.\n",
      "         Current function value: 0.260834\n",
      "         Iterations 14\n"
     ]
    },
    {
     "data": {
      "text/html": [
       "<table class=\"simpletable\">\n",
       "<caption>Logit Regression Results</caption>\n",
       "<tr>\n",
       "  <th>Dep. Variable:</th>    <td>Rating_category</td> <th>  No. Observations:  </th>  <td>  7580</td>  \n",
       "</tr>\n",
       "<tr>\n",
       "  <th>Model:</th>                 <td>Logit</td>      <th>  Df Residuals:      </th>  <td>  7577</td>  \n",
       "</tr>\n",
       "<tr>\n",
       "  <th>Method:</th>                 <td>MLE</td>       <th>  Df Model:          </th>  <td>     2</td>  \n",
       "</tr>\n",
       "<tr>\n",
       "  <th>Date:</th>            <td>Thu, 30 Nov 2023</td> <th>  Pseudo R-squ.:     </th>  <td>0.08492</td> \n",
       "</tr>\n",
       "<tr>\n",
       "  <th>Time:</th>                <td>12:19:22</td>     <th>  Log-Likelihood:    </th> <td> -1977.1</td> \n",
       "</tr>\n",
       "<tr>\n",
       "  <th>converged:</th>             <td>True</td>       <th>  LL-Null:           </th> <td> -2160.6</td> \n",
       "</tr>\n",
       "<tr>\n",
       "  <th>Covariance Type:</th>     <td>nonrobust</td>    <th>  LLR p-value:       </th> <td>2.077e-80</td>\n",
       "</tr>\n",
       "</table>\n",
       "<table class=\"simpletable\">\n",
       "<tr>\n",
       "     <td></td>        <th>coef</th>     <th>std err</th>      <th>z</th>      <th>P>|z|</th>  <th>[0.025</th>    <th>0.975]</th>  \n",
       "</tr>\n",
       "<tr>\n",
       "  <th>const</th>   <td>    2.4479</td> <td>    0.163</td> <td>   15.051</td> <td> 0.000</td> <td>    2.129</td> <td>    2.767</td>\n",
       "</tr>\n",
       "<tr>\n",
       "  <th>Reviews</th> <td> 2.644e-05</td> <td> 3.11e-06</td> <td>    8.495</td> <td> 0.000</td> <td> 2.03e-05</td> <td> 3.25e-05</td>\n",
       "</tr>\n",
       "<tr>\n",
       "  <th>Type</th>    <td>   -0.5147</td> <td>    0.169</td> <td>   -3.051</td> <td> 0.002</td> <td>   -0.845</td> <td>   -0.184</td>\n",
       "</tr>\n",
       "</table><br/><br/>Possibly complete quasi-separation: A fraction 0.13 of observations can be<br/>perfectly predicted. This might indicate that there is complete<br/>quasi-separation. In this case some parameters will not be identified."
      ],
      "text/latex": [
       "\\begin{center}\n",
       "\\begin{tabular}{lclc}\n",
       "\\toprule\n",
       "\\textbf{Dep. Variable:}   & Rating\\_category & \\textbf{  No. Observations:  } &     7580    \\\\\n",
       "\\textbf{Model:}           &      Logit       & \\textbf{  Df Residuals:      } &     7577    \\\\\n",
       "\\textbf{Method:}          &       MLE        & \\textbf{  Df Model:          } &        2    \\\\\n",
       "\\textbf{Date:}            & Thu, 30 Nov 2023 & \\textbf{  Pseudo R-squ.:     } &  0.08492    \\\\\n",
       "\\textbf{Time:}            &     12:19:22     & \\textbf{  Log-Likelihood:    } &   -1977.1   \\\\\n",
       "\\textbf{converged:}       &       True       & \\textbf{  LL-Null:           } &   -2160.6   \\\\\n",
       "\\textbf{Covariance Type:} &    nonrobust     & \\textbf{  LLR p-value:       } & 2.077e-80   \\\\\n",
       "\\bottomrule\n",
       "\\end{tabular}\n",
       "\\begin{tabular}{lcccccc}\n",
       "                 & \\textbf{coef} & \\textbf{std err} & \\textbf{z} & \\textbf{P$> |$z$|$} & \\textbf{[0.025} & \\textbf{0.975]}  \\\\\n",
       "\\midrule\n",
       "\\textbf{const}   &       2.4479  &        0.163     &    15.051  &         0.000        &        2.129    &        2.767     \\\\\n",
       "\\textbf{Reviews} &    2.644e-05  &     3.11e-06     &     8.495  &         0.000        &     2.03e-05    &     3.25e-05     \\\\\n",
       "\\textbf{Type}    &      -0.5147  &        0.169     &    -3.051  &         0.002        &       -0.845    &       -0.184     \\\\\n",
       "\\bottomrule\n",
       "\\end{tabular}\n",
       "%\\caption{Logit Regression Results}\n",
       "\\end{center}\n",
       "\n",
       "Possibly complete quasi-separation: A fraction 0.13 of observations can be \\newline\n",
       " perfectly predicted. This might indicate that there is complete \\newline\n",
       " quasi-separation. In this case some parameters will not be identified."
      ],
      "text/plain": [
       "<class 'statsmodels.iolib.summary.Summary'>\n",
       "\"\"\"\n",
       "                           Logit Regression Results                           \n",
       "==============================================================================\n",
       "Dep. Variable:        Rating_category   No. Observations:                 7580\n",
       "Model:                          Logit   Df Residuals:                     7577\n",
       "Method:                           MLE   Df Model:                            2\n",
       "Date:                Thu, 30 Nov 2023   Pseudo R-squ.:                 0.08492\n",
       "Time:                        12:19:22   Log-Likelihood:                -1977.1\n",
       "converged:                       True   LL-Null:                       -2160.6\n",
       "Covariance Type:            nonrobust   LLR p-value:                 2.077e-80\n",
       "==============================================================================\n",
       "                 coef    std err          z      P>|z|      [0.025      0.975]\n",
       "------------------------------------------------------------------------------\n",
       "const          2.4479      0.163     15.051      0.000       2.129       2.767\n",
       "Reviews     2.644e-05   3.11e-06      8.495      0.000    2.03e-05    3.25e-05\n",
       "Type          -0.5147      0.169     -3.051      0.002      -0.845      -0.184\n",
       "==============================================================================\n",
       "\n",
       "Possibly complete quasi-separation: A fraction 0.13 of observations can be\n",
       "perfectly predicted. This might indicate that there is complete\n",
       "quasi-separation. In this case some parameters will not be identified.\n",
       "\"\"\""
      ]
     },
     "execution_count": 54,
     "metadata": {},
     "output_type": "execute_result"
    }
   ],
   "source": [
    "import warnings\n",
    "warnings.filterwarnings('ignore')\n",
    "\n",
    "model = sm.Logit(y_train, X_train_c.astype(float)).fit()\n",
    "model.summary()"
   ]
  },
  {
   "cell_type": "code",
   "execution_count": 53,
   "id": "54a8f73d",
   "metadata": {
    "ExecuteTime": {
     "end_time": "2023-11-30T06:49:19.606101Z",
     "start_time": "2023-11-30T06:49:19.601946Z"
    }
   },
   "outputs": [],
   "source": [
    "X_train_c.drop(['Installs'], axis=1, inplace=True)"
   ]
  },
  {
   "cell_type": "code",
   "execution_count": 55,
   "id": "c17a51c4",
   "metadata": {
    "ExecuteTime": {
     "end_time": "2023-11-30T06:49:30.737153Z",
     "start_time": "2023-11-30T06:49:30.732840Z"
    }
   },
   "outputs": [],
   "source": [
    "X_test_c.drop(['Content Rating_Everyone','Content Rating_Everyone 10','Content Rating_Mature 17','Content Rating_Teen','Content Rating_Unrated','Price','Size','Installs'], axis=1, inplace=True)"
   ]
  },
  {
   "cell_type": "code",
   "execution_count": 54,
   "id": "78de4206",
   "metadata": {
    "ExecuteTime": {
     "end_time": "2023-11-29T08:27:30.964058Z",
     "start_time": "2023-11-29T08:27:30.775194Z"
    }
   },
   "outputs": [
    {
     "data": {
      "text/plain": [
       "const                         2543.000130\n",
       "Reviews                          1.844653\n",
       "Size                             1.056863\n",
       "Installs                         1.827374\n",
       "Type                             1.062083\n",
       "Price                            1.056752\n",
       "Content Rating_Everyone        400.871749\n",
       "Content Rating_Everyone 10      91.803620\n",
       "Content Rating_Mature 17       112.537855\n",
       "Content Rating_Teen            254.796976\n",
       "Content Rating_Unrated           1.666458\n",
       "dtype: float64"
      ]
     },
     "execution_count": 54,
     "metadata": {},
     "output_type": "execute_result"
    }
   ],
   "source": [
    "from statsmodels.stats.outliers_influence import variance_inflation_factor\n",
    "\n",
    "vif_series = pd.Series(\n",
    "    [variance_inflation_factor(X_train_c.values.astype(float), i) for i in range(X_train_c.shape[1])],\n",
    "    index=X_train_c.columns,\n",
    "    dtype=float)\n",
    "\n",
    "vif_series"
   ]
  },
  {
   "cell_type": "code",
   "execution_count": 56,
   "id": "01524f22",
   "metadata": {
    "ExecuteTime": {
     "end_time": "2023-11-30T06:49:37.743645Z",
     "start_time": "2023-11-30T06:49:37.739091Z"
    }
   },
   "outputs": [],
   "source": [
    "pred_prob = model.predict(X_test_c.astype(float))\n",
    "pred_class = np.where(pred_prob >= 0.1, 1, 0)"
   ]
  },
  {
   "cell_type": "code",
   "execution_count": 57,
   "id": "b09d11ca",
   "metadata": {
    "ExecuteTime": {
     "end_time": "2023-11-30T06:49:39.523589Z",
     "start_time": "2023-11-30T06:49:39.500507Z"
    }
   },
   "outputs": [
    {
     "name": "stdout",
     "output_type": "stream",
     "text": [
      "              precision    recall  f1-score   support\n",
      "\n",
      "       False       0.00      0.00      0.00       269\n",
      "        True       0.92      1.00      0.96      2980\n",
      "\n",
      "    accuracy                           0.92      3249\n",
      "   macro avg       0.46      0.50      0.48      3249\n",
      "weighted avg       0.84      0.92      0.88      3249\n",
      "\n"
     ]
    }
   ],
   "source": [
    "print(classification_report(y_test, pred_class))\n"
   ]
  },
  {
   "cell_type": "code",
   "execution_count": null,
   "id": "c6239040",
   "metadata": {},
   "outputs": [],
   "source": []
  }
 ],
 "metadata": {
  "kernelspec": {
   "display_name": "Python 3 (ipykernel)",
   "language": "python",
   "name": "python3"
  },
  "language_info": {
   "codemirror_mode": {
    "name": "ipython",
    "version": 3
   },
   "file_extension": ".py",
   "mimetype": "text/x-python",
   "name": "python",
   "nbconvert_exporter": "python",
   "pygments_lexer": "ipython3",
   "version": "3.11.5"
  },
  "varInspector": {
   "cols": {
    "lenName": 16,
    "lenType": 16,
    "lenVar": 40
   },
   "kernels_config": {
    "python": {
     "delete_cmd_postfix": "",
     "delete_cmd_prefix": "del ",
     "library": "var_list.py",
     "varRefreshCmd": "print(var_dic_list())"
    },
    "r": {
     "delete_cmd_postfix": ") ",
     "delete_cmd_prefix": "rm(",
     "library": "var_list.r",
     "varRefreshCmd": "cat(var_dic_list()) "
    }
   },
   "types_to_exclude": [
    "module",
    "function",
    "builtin_function_or_method",
    "instance",
    "_Feature"
   ],
   "window_display": false
  }
 },
 "nbformat": 4,
 "nbformat_minor": 5
}
